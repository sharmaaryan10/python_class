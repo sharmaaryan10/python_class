{
 "cells": [
  {
   "cell_type": "code",
   "execution_count": 1,
   "id": "baab912f",
   "metadata": {},
   "outputs": [
    {
     "name": "stdout",
     "output_type": "stream",
     "text": [
      "<class 'str'>\n"
     ]
    }
   ],
   "source": [
    "s = \"Hello World\"\n",
    "print(type(s))"
   ]
  },
  {
   "cell_type": "code",
   "execution_count": 2,
   "id": "55f7ffc2",
   "metadata": {},
   "outputs": [
    {
     "name": "stdout",
     "output_type": "stream",
     "text": [
      "<class 'str'> <class 'str'> <class 'str'>\n"
     ]
    }
   ],
   "source": [
    "a = \"Hello World\"\n",
    "b = 'Hello World'\n",
    "c = '''Hello World'''\n",
    "print(type(a),type(b),type(c))"
   ]
  },
  {
   "cell_type": "code",
   "execution_count": 4,
   "id": "98d9c5d0",
   "metadata": {},
   "outputs": [
    {
     "name": "stdout",
     "output_type": "stream",
     "text": [
      "Hello WorldHello World\n",
      "abc\n",
      "abc\n",
      "\n"
     ]
    }
   ],
   "source": [
    "a = 'Hello World'\n",
    "print(a*2)\n",
    "\n",
    "b = \"abc\\n\"\n",
    "print(b*2)"
   ]
  },
  {
   "cell_type": "code",
   "execution_count": 5,
   "id": "1ab531c1",
   "metadata": {},
   "outputs": [
    {
     "name": "stdout",
     "output_type": "stream",
     "text": [
      "Hello World"
     ]
    }
   ],
   "source": [
    "for i in a:\n",
    "    print(i, end=\"\")"
   ]
  },
  {
   "cell_type": "code",
   "execution_count": 6,
   "id": "04aa784b",
   "metadata": {},
   "outputs": [
    {
     "name": "stdout",
     "output_type": "stream",
     "text": [
      "H\n",
      "Hello\n",
      "HloWr\n"
     ]
    }
   ],
   "source": [
    "a = \"Hello World I am Python\"\n",
    "print(a[0])        # indexing\n",
    "print(a[0:5])      # slicing\n",
    "print(a[0:10:2])   # slicing"
   ]
  },
  {
   "cell_type": "code",
   "execution_count": 13,
   "id": "e270766a",
   "metadata": {},
   "outputs": [
    {
     "name": "stdout",
     "output_type": "stream",
     "text": [
      "n\n",
      "nohtyP\n"
     ]
    }
   ],
   "source": [
    "a = \"Python\"\n",
    "print(a[-1])\n",
    "print(a[::-1])"
   ]
  },
  {
   "cell_type": "code",
   "execution_count": 16,
   "id": "c3c2dafa",
   "metadata": {},
   "outputs": [
    {
     "name": "stdout",
     "output_type": "stream",
     "text": [
      "Python"
     ]
    }
   ],
   "source": [
    "a = \"Python\"\n",
    "l = len(a)\n",
    "for i in range(l):\n",
    "    print(a[i],end=\"\")"
   ]
  },
  {
   "cell_type": "code",
   "execution_count": 1,
   "id": "f8285f19",
   "metadata": {},
   "outputs": [
    {
     "name": "stdout",
     "output_type": "stream",
     "text": [
      "Python"
     ]
    }
   ],
   "source": [
    "a = \"Python\"\n",
    "l = len(a)\n",
    "i = 0\n",
    "while(i<l):\n",
    "    print(a[i],end=\"\")\n",
    "    i += 1"
   ]
  },
  {
   "cell_type": "code",
   "execution_count": null,
   "id": "df96fecf",
   "metadata": {},
   "outputs": [],
   "source": []
  },
  {
   "cell_type": "code",
   "execution_count": 3,
   "id": "f1a82d31",
   "metadata": {},
   "outputs": [],
   "source": [
    "# WAP to create a billing system\n",
    "# name , price, qty, total"
   ]
  },
  {
   "cell_type": "code",
   "execution_count": 2,
   "id": "4b0abfcb",
   "metadata": {},
   "outputs": [
    {
     "name": "stdout",
     "output_type": "stream",
     "text": [
      "Enter the count of items: 2\n",
      "\n",
      "Enter the name of product: apple\n",
      "Enter the unit price of apple : 50\n",
      "Enter the quantity of apple: 12\n",
      "\n",
      "Details\n",
      "Product name:  apple \n",
      "Price:  50 \n",
      "Quantity:  12 \n",
      "Total Price:  600\n",
      "\n",
      "Enter the name of product: banana\n",
      "Enter the unit price of banana : 10\n",
      "Enter the quantity of banana: 30\n",
      "\n",
      "Details\n",
      "Product name:  banana \n",
      "Price:  10 \n",
      "Quantity:  30 \n",
      "Total Price:  300\n"
     ]
    }
   ],
   "source": [
    "n = int(input(\"Enter the count of items: \"))\n",
    "i = 0\n",
    "while(i<n):\n",
    "    name = input(\"\\nEnter the name of product: \")\n",
    "    price = int(input(f\"Enter the unit price of {name} : \"))\n",
    "    qty = int(input(f\"Enter the quantity of {name}: \"))\n",
    "    total = price*qty\n",
    "    print(\"\\nDetails\")\n",
    "#     print(f\"S.no\\tProduct Name\\tPrice\\tQuantity\\tTotal\")\n",
    "    print(\"Product name: \",name,\"\\nPrice: \",price,\"\\nQuantity: \",qty,\"\\nTotal Price: \", total)\n",
    "#     print(f\"{i+1}\\t{name}\\t\\t{price}\\t{qty}\\t\\t{total}\")\n",
    "#     print(f\"Product name:{name})\n",
    "    i += 1"
   ]
  },
  {
   "cell_type": "code",
   "execution_count": 7,
   "id": "af97817f",
   "metadata": {},
   "outputs": [
    {
     "name": "stdout",
     "output_type": "stream",
     "text": [
      "Enter the count of items: 1\n",
      "\n",
      "Enter the name of product: appa\n",
      "Enter the unit price of appa : 89\n",
      "Enter the quantity of appa: 29\n",
      "\n",
      "Details\n",
      "S.no\tProduct Name\tPrice\tQuantity\tTotal\n",
      "1\tappa\t89\t29\t\t2581\n",
      "\n"
     ]
    }
   ],
   "source": [
    "info = \"\"\n",
    "n = int(input(\"Enter the count of items: \"))\n",
    "i = 0\n",
    "while(i<n):\n",
    "    name = input(\"\\nEnter the name of product: \")\n",
    "    price = int(input(f\"Enter the unit price of {name} : \"))\n",
    "    qty = int(input(f\"Enter the quantity of {name}: \"))\n",
    "    total = price*qty\n",
    "    info = info + f\"{i+1}\\t{name}\\t{price}\\t{qty}\\t\\t{total}\\n\"\n",
    "    i += 1\n",
    "\n",
    "print(\"\\nDetails\")\n",
    "print(f\"S.no\\tProduct Name\\tPrice\\tQuantity\\tTotal\")\n",
    "print(info)"
   ]
  },
  {
   "cell_type": "markdown",
   "id": "69318d07",
   "metadata": {},
   "source": [
    "# searching in string"
   ]
  },
  {
   "cell_type": "code",
   "execution_count": 1,
   "id": "38903154",
   "metadata": {},
   "outputs": [
    {
     "name": "stdout",
     "output_type": "stream",
     "text": [
      "Ram Shyam Hari Sita Gita Ramesh\n"
     ]
    }
   ],
   "source": [
    "info = \"Ram Shyam Hari Sita Gita Ramesh\"\n",
    "print(info)"
   ]
  },
  {
   "cell_type": "code",
   "execution_count": 5,
   "id": "a2268965",
   "metadata": {},
   "outputs": [
    {
     "name": "stdout",
     "output_type": "stream",
     "text": [
      "Yes\n",
      "2\n"
     ]
    }
   ],
   "source": [
    "info = \"Ram Shyam Hari Sita Gita Ramesh\"\n",
    "name = \"Ram\"\n",
    "if name in info:\n",
    "    print(\"Yes\")\n",
    "    print(info.count(name))   # Ramesh -> Ram... is also counted\n",
    "#     print(name)"
   ]
  },
  {
   "cell_type": "code",
   "execution_count": 6,
   "id": "c0fb2918",
   "metadata": {},
   "outputs": [
    {
     "name": "stdout",
     "output_type": "stream",
     "text": [
      "Enter name: ram\n",
      "There is no any ram\n"
     ]
    }
   ],
   "source": [
    "# case sensitive case\n",
    "\n",
    "info = \"Ram Shyam Hari Sita Gita Ramesh\"\n",
    "name = input(\"Enter name: \")\n",
    "if name in info:\n",
    "    print(\"Yes\")\n",
    "    print(info.count(name)) \n",
    "else:\n",
    "    print(\"There is no any\", name)"
   ]
  },
  {
   "cell_type": "code",
   "execution_count": 10,
   "id": "689bd3a8",
   "metadata": {},
   "outputs": [
    {
     "name": "stdout",
     "output_type": "stream",
     "text": [
      "RAM SHYAM HARI SITA GITA RAMESH\n",
      "ram shyam hari sita gita ramesh\n"
     ]
    }
   ],
   "source": [
    "info = \"Ram Shyam Hari Sita Gita Ramesh\"\n",
    "print(info.upper())\n",
    "print(info.lower())"
   ]
  },
  {
   "cell_type": "code",
   "execution_count": 11,
   "id": "54e78a74",
   "metadata": {},
   "outputs": [
    {
     "name": "stdout",
     "output_type": "stream",
     "text": [
      "Enter name: ram\n",
      "Yes\n",
      "2\n"
     ]
    }
   ],
   "source": [
    "# removing case-sensitive cases\n",
    "\n",
    "info = \"Ram Shyam Hari Sita Gita Ramesh\".lower()\n",
    "name = input(\"Enter name: \").lower()\n",
    "if name in info:\n",
    "    print(\"Yes\")\n",
    "    print(info.count(name)) \n",
    "else:\n",
    "    print(\"There is no any\", name)"
   ]
  },
  {
   "cell_type": "markdown",
   "id": "a309687d",
   "metadata": {},
   "source": [
    "# changing string to list using split()"
   ]
  },
  {
   "cell_type": "code",
   "execution_count": 14,
   "id": "be7ff6bd",
   "metadata": {},
   "outputs": [
    {
     "data": {
      "text/plain": [
       "['Ram', 'Shyam', 'Hari', 'Sita', 'Gita', 'Ramesh']"
      ]
     },
     "execution_count": 14,
     "metadata": {},
     "output_type": "execute_result"
    }
   ],
   "source": [
    "info = \"Ram Shyam Hari Sita Gita Ramesh\"\n",
    "# info.split('_')\n",
    "info.split(' ')"
   ]
  },
  {
   "cell_type": "code",
   "execution_count": 15,
   "id": "840527d6",
   "metadata": {},
   "outputs": [
    {
     "name": "stdout",
     "output_type": "stream",
     "text": [
      "apple 400 3 1200\n",
      "Banana 200 3 600\n",
      "\n"
     ]
    }
   ],
   "source": [
    "info = 'apple 400 3 1200\\nBanana 200 3 600\\n'\n",
    "print(info)"
   ]
  },
  {
   "cell_type": "code",
   "execution_count": 17,
   "id": "4cb51e05",
   "metadata": {},
   "outputs": [
    {
     "name": "stdout",
     "output_type": "stream",
     "text": [
      "['apple 400 3 1200', 'Banana 200 3 600']\n"
     ]
    }
   ],
   "source": [
    "info = 'apple 400 3 1200\\nBanana 200 3 600\\n'\n",
    "a = info.split('\\n')[:-1]\n",
    "print(a)"
   ]
  },
  {
   "cell_type": "code",
   "execution_count": 18,
   "id": "1fec4290",
   "metadata": {},
   "outputs": [
    {
     "data": {
      "text/plain": [
       "[['apple', '400', '3', '1200'], ['Banana', '200', '3', '600']]"
      ]
     },
     "execution_count": 18,
     "metadata": {},
     "output_type": "execute_result"
    }
   ],
   "source": [
    "bill_list = []\n",
    "for i in a:\n",
    "    bill_list.append(i.split())\n",
    "\n",
    "bill_list"
   ]
  },
  {
   "cell_type": "code",
   "execution_count": null,
   "id": "5d6dcf8e",
   "metadata": {},
   "outputs": [],
   "source": []
  }
 ],
 "metadata": {
  "kernelspec": {
   "display_name": "Python 3 (ipykernel)",
   "language": "python",
   "name": "python3"
  },
  "language_info": {
   "codemirror_mode": {
    "name": "ipython",
    "version": 3
   },
   "file_extension": ".py",
   "mimetype": "text/x-python",
   "name": "python",
   "nbconvert_exporter": "python",
   "pygments_lexer": "ipython3",
   "version": "3.11.5"
  }
 },
 "nbformat": 4,
 "nbformat_minor": 5
}
