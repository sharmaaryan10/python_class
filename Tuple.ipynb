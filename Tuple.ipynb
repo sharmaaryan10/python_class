{
 "cells": [
  {
   "cell_type": "code",
   "execution_count": 2,
   "id": "7badfc44",
   "metadata": {},
   "outputs": [],
   "source": [
    "# Tuple\n",
    "# -Indexing\n",
    "# -Ordered\n",
    "# -Multiple & duplicate data\n",
    "# -Imutable"
   ]
  },
  {
   "cell_type": "code",
   "execution_count": 3,
   "id": "e05ef4fe",
   "metadata": {},
   "outputs": [],
   "source": [
    "# a = tuple() --> small bracket"
   ]
  },
  {
   "cell_type": "code",
   "execution_count": 4,
   "id": "7ff20a90",
   "metadata": {},
   "outputs": [
    {
     "name": "stdout",
     "output_type": "stream",
     "text": [
      "(1, 2, 3, 4, 5)\n",
      "('apple', 'ball', 'cat', 'dog')\n",
      "<class 'tuple'>\n",
      "<class 'tuple'>\n"
     ]
    }
   ],
   "source": [
    "a = (1,2,3,4,5)\n",
    "b = (\"apple\",\"ball\",\"cat\",\"dog\")\n",
    "print(a)\n",
    "print(b)\n",
    "\n",
    "print(type(a))\n",
    "print(type(b))"
   ]
  },
  {
   "cell_type": "code",
   "execution_count": 5,
   "id": "29a37fe3",
   "metadata": {},
   "outputs": [
    {
     "name": "stdout",
     "output_type": "stream",
     "text": [
      "apple\n"
     ]
    }
   ],
   "source": [
    "b = (\"apple\",\"ball\",\"cat\",\"dog\")\n",
    "print(b[0])"
   ]
  },
  {
   "cell_type": "code",
   "execution_count": 6,
   "id": "347edd77",
   "metadata": {},
   "outputs": [],
   "source": [
    "# - No append(), extend(), insert()\n",
    "# - No update\n",
    "# - No del pop(), remove()\n",
    "# - No sort()"
   ]
  },
  {
   "cell_type": "code",
   "execution_count": 7,
   "id": "8045fcb7",
   "metadata": {},
   "outputs": [
    {
     "name": "stdout",
     "output_type": "stream",
     "text": [
      "<class 'int'>\n",
      "<class 'str'>\n",
      "<class 'tuple'>\n"
     ]
    }
   ],
   "source": [
    "x = (1)\n",
    "y = (\"apple\")\n",
    "z = (1,)\n",
    "\n",
    "print(type(x))\n",
    "print(type(y))\n",
    "print(type(z))"
   ]
  },
  {
   "cell_type": "code",
   "execution_count": 8,
   "id": "8d7713b8",
   "metadata": {},
   "outputs": [
    {
     "name": "stdout",
     "output_type": "stream",
     "text": [
      "(1, 2, 3, 4, 5, 6)\n"
     ]
    }
   ],
   "source": [
    "a = (1,2,3)\n",
    "b = (4,5,6)\n",
    "c = a+b\n",
    "print(c)"
   ]
  },
  {
   "cell_type": "code",
   "execution_count": 10,
   "id": "bf42e869",
   "metadata": {},
   "outputs": [
    {
     "name": "stdout",
     "output_type": "stream",
     "text": [
      "(1, 2, 3, 1, 2, 3)\n"
     ]
    }
   ],
   "source": [
    "a = (1,2,3)\n",
    "print(a*2)"
   ]
  },
  {
   "cell_type": "code",
   "execution_count": 15,
   "id": "387fffcc",
   "metadata": {},
   "outputs": [
    {
     "name": "stdout",
     "output_type": "stream",
     "text": [
      "Enter n: 2\n",
      "Enter x: 123\n",
      "Enter x: 456\n",
      "(123, 456)\n"
     ]
    }
   ],
   "source": [
    "a = ()\n",
    "n = int(input(\"Enter n: \"))\n",
    "for i in range(n):\n",
    "    x = int(input(\"Enter x: \"))\n",
    "#     a = a + x --> not valid \n",
    "    a = a + (x,)\n",
    "\n",
    "print(a)"
   ]
  },
  {
   "cell_type": "code",
   "execution_count": 14,
   "id": "a03d30a3",
   "metadata": {},
   "outputs": [
    {
     "data": {
      "text/plain": [
       "['w', 'o', 'r', 'l', 'd']"
      ]
     },
     "execution_count": 14,
     "metadata": {},
     "output_type": "execute_result"
    }
   ],
   "source": [
    "a = \"Hello\"\n",
    "b = \"world\"\n",
    "\n",
    "tuple(a)\n",
    "# print(a)\n",
    "\n",
    "list(b)\n",
    "# print(b)\n",
    "\n",
    "# x = (\"Hello\")\n",
    "# y = [\"world\"]\n",
    "\n",
    "# print(x)\n",
    "# print(y)"
   ]
  },
  {
   "cell_type": "code",
   "execution_count": 16,
   "id": "58f933bc",
   "metadata": {},
   "outputs": [
    {
     "name": "stdout",
     "output_type": "stream",
     "text": [
      "12\n",
      "57\n",
      "191\n"
     ]
    }
   ],
   "source": [
    "a = (12,57,27,39,56)\n",
    "print(min(a))\n",
    "print(max(a))\n",
    "print(sum(a))"
   ]
  },
  {
   "cell_type": "code",
   "execution_count": 18,
   "id": "4d66d18f",
   "metadata": {},
   "outputs": [
    {
     "name": "stdout",
     "output_type": "stream",
     "text": [
      "[1, 2, 3]\n",
      "(2, 3)\n"
     ]
    }
   ],
   "source": [
    "# converting tuple into list, doing operation , & again changing back to tuple\n",
    "# as direct operation on tuple is not possible\n",
    "a = (1,2,3)\n",
    "b = list(a)\n",
    "print(b)\n",
    "del b[0]\n",
    "a = tuple(b)\n",
    "print(a)"
   ]
  },
  {
   "cell_type": "code",
   "execution_count": 19,
   "id": "fa8f70d3",
   "metadata": {},
   "outputs": [
    {
     "name": "stdout",
     "output_type": "stream",
     "text": [
      "[(1, 2), (3, 4), (5, 6)]\n"
     ]
    }
   ],
   "source": [
    "# tuple inside list\n",
    "a = [(1,2),(3,4),(5,6)]\n",
    "print(a)"
   ]
  },
  {
   "cell_type": "code",
   "execution_count": 20,
   "id": "804c5df2",
   "metadata": {},
   "outputs": [
    {
     "name": "stdout",
     "output_type": "stream",
     "text": [
      "([1, 2], [3, 4], [5, 6])\n"
     ]
    }
   ],
   "source": [
    "# list inside tuple\n",
    "a = ([1,2],[3,4],[5,6])\n",
    "print(a)"
   ]
  },
  {
   "cell_type": "code",
   "execution_count": 21,
   "id": "34f3b860",
   "metadata": {},
   "outputs": [
    {
     "name": "stdout",
     "output_type": "stream",
     "text": [
      "((1, 2, 3), (4, 5, 6), (7, 8, 9))\n"
     ]
    }
   ],
   "source": [
    "# tuple inside tuple \n",
    "a = ((1,2,3), (4,5,6), (7,8,9))\n",
    "print(a)"
   ]
  },
  {
   "cell_type": "code",
   "execution_count": 25,
   "id": "12550bb2",
   "metadata": {},
   "outputs": [
    {
     "name": "stdout",
     "output_type": "stream",
     "text": [
      "Enter integer: 2\n",
      "Enter your name: ram\n",
      "Enter your age: 24\n",
      "Enter your address: ktm\n",
      "Enter your name: hari\n",
      "Enter your age: 45\n",
      "Enter your address: bkt\n",
      "(('ram', 24, 'ktm'), ('hari', 45, 'bkt'))\n"
     ]
    }
   ],
   "source": [
    "# a = (('Ram', 24, 'ktm'),('shyam', 25, 'laltipur'), ('hari', 30, 'bkt'))\n",
    "n = int(input(\"Enter integer: \"))\n",
    "a = ()\n",
    "for i in range(n):\n",
    "    name = input(\"Enter your name: \")\n",
    "    age = int(input(\"Enter your age: \"))\n",
    "    add = input(\"Enter your address: \")\n",
    "    a += ((name,age,add),)\n",
    "print(a)"
   ]
  },
  {
   "cell_type": "code",
   "execution_count": null,
   "id": "0811c5a0",
   "metadata": {},
   "outputs": [],
   "source": []
  }
 ],
 "metadata": {
  "kernelspec": {
   "display_name": "Python 3 (ipykernel)",
   "language": "python",
   "name": "python3"
  },
  "language_info": {
   "codemirror_mode": {
    "name": "ipython",
    "version": 3
   },
   "file_extension": ".py",
   "mimetype": "text/x-python",
   "name": "python",
   "nbconvert_exporter": "python",
   "pygments_lexer": "ipython3",
   "version": "3.11.5"
  }
 },
 "nbformat": 4,
 "nbformat_minor": 5
}
