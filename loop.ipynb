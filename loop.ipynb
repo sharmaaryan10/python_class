{
 "cells": [
  {
   "cell_type": "code",
   "execution_count": 1,
   "id": "5401a811",
   "metadata": {},
   "outputs": [],
   "source": [
    "#loops: for, while"
   ]
  },
  {
   "cell_type": "code",
   "execution_count": 2,
   "id": "f7cb71da",
   "metadata": {},
   "outputs": [],
   "source": [
    "# range(5) -> 0,1,2,3,4\n",
    "# range(1,5) -> 1,2,3,4\n",
    "# range(1,10,2) -> 1,3,5,7,9"
   ]
  },
  {
   "cell_type": "code",
   "execution_count": 4,
   "id": "1eab4e79",
   "metadata": {},
   "outputs": [
    {
     "name": "stdout",
     "output_type": "stream",
     "text": [
      "hello world 0 times\n",
      "hello world 1 times\n",
      "hello world 2 times\n",
      "hello world 3 times\n",
      "hello world 4 times\n"
     ]
    }
   ],
   "source": [
    "for i in range(5):\n",
    "    print(\"hello world\", i, \"times\")"
   ]
  },
  {
   "cell_type": "code",
   "execution_count": 5,
   "id": "b922bb58",
   "metadata": {},
   "outputs": [
    {
     "name": "stdout",
     "output_type": "stream",
     "text": [
      "1 Display with 2 no gaps\n",
      "3 Display with 2 no gaps\n",
      "5 Display with 2 no gaps\n",
      "7 Display with 2 no gaps\n",
      "9 Display with 2 no gaps\n"
     ]
    }
   ],
   "source": [
    "for i in range(1,10,2):\n",
    "    print(i,\"Display with 2 no gaps\")"
   ]
  },
  {
   "cell_type": "code",
   "execution_count": 11,
   "id": "279da33e",
   "metadata": {},
   "outputs": [
    {
     "name": "stdout",
     "output_type": "stream",
     "text": [
      "Enter a no: 6\n",
      "6 * 1 = 6\n",
      "6 * 2 = 12\n",
      "6 * 3 = 18\n",
      "6 * 4 = 24\n",
      "6 * 5 = 30\n",
      "6 * 6 = 36\n",
      "6 * 7 = 42\n",
      "6 * 8 = 48\n",
      "6 * 9 = 54\n",
      "6 * 10 = 60\n"
     ]
    }
   ],
   "source": [
    "n = int(input(\"Enter a no: \"))\n",
    "for i in range(1,11):\n",
    "    print(n,\"*\",i,\"=\",i*n)"
   ]
  },
  {
   "cell_type": "code",
   "execution_count": 12,
   "id": "9738b53b",
   "metadata": {},
   "outputs": [
    {
     "name": "stdout",
     "output_type": "stream",
     "text": [
      "Enter n: 3\n",
      "Enter x: 4\n",
      "Enter x: 5\n",
      "Enter x: 6\n",
      "Total sum:  15\n"
     ]
    }
   ],
   "source": [
    "n = int(input(\"Enter n: \"))\n",
    "sum = 0\n",
    "for i in range(n):\n",
    "    x = int(input(\"Enter x: \"))\n",
    "    sum += x\n",
    "print(\"Total sum: \",sum)"
   ]
  },
  {
   "cell_type": "code",
   "execution_count": 1,
   "id": "95071a55",
   "metadata": {},
   "outputs": [
    {
     "name": "stdout",
     "output_type": "stream",
     "text": [
      "Enter the no of letter on your name: 5\n",
      "Enter the letter of your name: s\n",
      "Enter the letter of your name: a\n",
      "Enter the letter of your name: g\n",
      "Enter the letter of your name: a\n",
      "Enter the letter of your name: r\n",
      "Name:  sagar\n"
     ]
    }
   ],
   "source": [
    "s = str()\n",
    "n = int(input(\"Enter the no of letter on your name: \"))\n",
    "for i in range(n):\n",
    "    x = input(\"Enter the letter of your name: \")\n",
    "    s += x\n",
    "print(\"Name: \",s)"
   ]
  },
  {
   "cell_type": "code",
   "execution_count": 1,
   "id": "f1a39dbc",
   "metadata": {},
   "outputs": [
    {
     "name": "stdout",
     "output_type": "stream",
     "text": [
      "Enter the no of students: 2\n",
      "Enter your name: ram\n",
      "Enter phone no:45\n",
      "Enter your name: sita\n",
      "Enter phone no:23\n",
      "Details:  \n",
      "\n",
      "ram 45\n",
      "sita 23\n",
      "\n"
     ]
    }
   ],
   "source": [
    "s = str()\n",
    "n = int(input(\"Enter the no of students: \"))\n",
    "for i in range(n):\n",
    "    x = input(\"Enter your name: \")\n",
    "    y = input(\"Enter phone no:\")\n",
    "    s += x+\" \"+ y +'\\n'\n",
    "print(s)"
   ]
  },
  {
   "cell_type": "code",
   "execution_count": 7,
   "id": "9f723e1f",
   "metadata": {
    "scrolled": true
   },
   "outputs": [
    {
     "name": "stdout",
     "output_type": "stream",
     "text": [
      "Enter the no: 5\n",
      "120\n"
     ]
    }
   ],
   "source": [
    "n = int(input(\"Enter the no: \"))\n",
    "fact = 1\n",
    "for i in range(1,n+1):\n",
    "    fact = fact*i\n",
    "print(fact)"
   ]
  },
  {
   "cell_type": "code",
   "execution_count": 5,
   "id": "5337bbef",
   "metadata": {},
   "outputs": [
    {
     "name": "stdout",
     "output_type": "stream",
     "text": [
      "Enter the no: 5\n",
      "4\n",
      "3\n",
      "2\n",
      "1\n",
      "Factorial:  120\n"
     ]
    }
   ],
   "source": [
    "n = int(input(\"Enter the no: \"))\n",
    "fact = 1\n",
    "for i in range(1,n):\n",
    "    fact = fact*n\n",
    "    n -= 1\n",
    "    print(n)\n",
    "print(\"Factorial: \", fact)"
   ]
  },
  {
   "cell_type": "code",
   "execution_count": 8,
   "id": "a0c62d56",
   "metadata": {},
   "outputs": [
    {
     "name": "stdout",
     "output_type": "stream",
     "text": [
      "P\n",
      "y\n",
      "t\n",
      "h\n",
      "o\n",
      "n\n"
     ]
    }
   ],
   "source": [
    "a = \"Python\"\n",
    "for i in a:\n",
    "    print(i)"
   ]
  },
  {
   "cell_type": "code",
   "execution_count": 9,
   "id": "48da85a0",
   "metadata": {},
   "outputs": [
    {
     "name": "stdout",
     "output_type": "stream",
     "text": [
      "Hello World Python"
     ]
    }
   ],
   "source": [
    "a = \"Hello World Python\"\n",
    "for i in a:\n",
    "    print(i,end = \"\")"
   ]
  },
  {
   "cell_type": "code",
   "execution_count": 10,
   "id": "36111b3e",
   "metadata": {},
   "outputs": [
    {
     "name": "stdout",
     "output_type": "stream",
     "text": [
      "0 1 2 3 4 "
     ]
    }
   ],
   "source": [
    "for i in range(5):\n",
    "    print(i,end = \" \")"
   ]
  },
  {
   "cell_type": "code",
   "execution_count": 3,
   "id": "0ef0ec05",
   "metadata": {},
   "outputs": [
    {
     "name": "stdout",
     "output_type": "stream",
     "text": [
      "Hello World"
     ]
    }
   ],
   "source": [
    "a = \"Hello World. Python\"\n",
    "for i in a:\n",
    "    if i == \".\":\n",
    "        break\n",
    "    print(i,end=\"\")"
   ]
  },
  {
   "cell_type": "code",
   "execution_count": 6,
   "id": "f3b61d3d",
   "metadata": {},
   "outputs": [
    {
     "name": "stdout",
     "output_type": "stream",
     "text": [
      "0 1 2 3 4 6 7 8 9 "
     ]
    }
   ],
   "source": [
    "for i in range(10):\n",
    "    if i == 5:\n",
    "        continue\n",
    "    print(i,end=\" \")"
   ]
  },
  {
   "cell_type": "code",
   "execution_count": null,
   "id": "1a426335",
   "metadata": {},
   "outputs": [],
   "source": [
    "# check it\n",
    "n = int(input(\"Enter the no: \"))\n",
    "for i in range(2,n):\n",
    "    if(n%i == 0):\n",
    "        temp = 1\n",
    "        break\n",
    "if(temp == 1):\n",
    "    print(\"The no. is composite\")\n",
    "else:\n",
    "    print(\"The no. is prime\")\n",
    "        "
   ]
  },
  {
   "cell_type": "code",
   "execution_count": 4,
   "id": "1f88df28",
   "metadata": {},
   "outputs": [],
   "source": [
    "# for else loop:"
   ]
  },
  {
   "cell_type": "code",
   "execution_count": 3,
   "id": "bd2447ce",
   "metadata": {},
   "outputs": [
    {
     "name": "stdout",
     "output_type": "stream",
     "text": [
      "Enter the no: 5\n",
      "The no. is prime\n"
     ]
    }
   ],
   "source": [
    "n = int(input(\"Enter the no: \"))\n",
    "for i in range(2,n):\n",
    "    if(n%i == 0):\n",
    "        print(\"The no. is composite\")\n",
    "        break\n",
    "else:\n",
    "    print(\"The no. is prime\")\n",
    "        "
   ]
  },
  {
   "cell_type": "code",
   "execution_count": 5,
   "id": "078342ad",
   "metadata": {},
   "outputs": [],
   "source": [
    "# while loop"
   ]
  },
  {
   "cell_type": "code",
   "execution_count": 6,
   "id": "bae510c5",
   "metadata": {},
   "outputs": [
    {
     "name": "stdout",
     "output_type": "stream",
     "text": [
      "hello\n",
      "hello\n",
      "hello\n",
      "hello\n",
      "hello\n"
     ]
    }
   ],
   "source": [
    "a = 0\n",
    "while a<5:\n",
    "    print(\"hello\")\n",
    "    a += 1"
   ]
  },
  {
   "cell_type": "code",
   "execution_count": 7,
   "id": "c5717fca",
   "metadata": {},
   "outputs": [
    {
     "name": "stdout",
     "output_type": "stream",
     "text": [
      "5 hello\n",
      "4 hello\n",
      "3 hello\n",
      "2 hello\n",
      "1 hello\n"
     ]
    }
   ],
   "source": [
    "a = 5\n",
    "while a>0:\n",
    "    print(a,\"hello\")\n",
    "    a -= 1"
   ]
  },
  {
   "cell_type": "code",
   "execution_count": 9,
   "id": "39617378",
   "metadata": {},
   "outputs": [
    {
     "name": "stdout",
     "output_type": "stream",
     "text": [
      "Enter n: 6\n",
      "6 * 1 = 6\n",
      "6 * 2 = 12\n",
      "6 * 3 = 18\n",
      "6 * 4 = 24\n",
      "6 * 5 = 30\n",
      "6 * 6 = 36\n",
      "6 * 7 = 42\n",
      "6 * 8 = 48\n",
      "6 * 9 = 54\n",
      "6 * 10 = 60\n"
     ]
    }
   ],
   "source": [
    "n = int(input(\"Enter n: \"))\n",
    "i = 1\n",
    "while i<=10:\n",
    "    print(n,\"*\",i,\"=\",i*n)\n",
    "    i +=1"
   ]
  },
  {
   "cell_type": "code",
   "execution_count": 10,
   "id": "747fb445",
   "metadata": {},
   "outputs": [
    {
     "name": "stdout",
     "output_type": "stream",
     "text": [
      "Enter the no of students: 3\n",
      "Enter your name: ram\n",
      "Enter phone no:89\n",
      "Enter your name: hari\n",
      "Enter phone no:67\n",
      "Enter your name: sita\n",
      "Enter phone no:45\n",
      "ram 89\n",
      "hari 67\n",
      "sita 45\n",
      "\n"
     ]
    }
   ],
   "source": [
    "i = 0\n",
    "s = str()\n",
    "n = int(input(\"Enter the no of students: \"))\n",
    "while i<n:\n",
    "    x = input(\"Enter your name: \")\n",
    "    y = input(\"Enter phone no:\")\n",
    "    s += x+\" \"+ y +'\\n'\n",
    "    i += 1\n",
    "print(s)"
   ]
  },
  {
   "cell_type": "code",
   "execution_count": 11,
   "id": "fc641de7",
   "metadata": {},
   "outputs": [
    {
     "name": "stdout",
     "output_type": "stream",
     "text": [
      "Enter the no: 5\n",
      "Factorial of no is:  120\n"
     ]
    }
   ],
   "source": [
    "i = 1\n",
    "fact = 1\n",
    "n = int(input(\"Enter the no: \"))\n",
    "while i<=n:\n",
    "    fact = fact*i\n",
    "    i += 1\n",
    "print(\"Factorial of no is: \", fact)"
   ]
  },
  {
   "cell_type": "code",
   "execution_count": 12,
   "id": "d01c5072",
   "metadata": {},
   "outputs": [],
   "source": [
    "# while loop with break"
   ]
  },
  {
   "cell_type": "code",
   "execution_count": 14,
   "id": "4dd75d0f",
   "metadata": {},
   "outputs": [
    {
     "name": "stdout",
     "output_type": "stream",
     "text": [
      "0 1 2 3 4 "
     ]
    }
   ],
   "source": [
    "i = 0\n",
    "while i<10:\n",
    "    if i==5:\n",
    "        break\n",
    "    print(i, end=\" \")\n",
    "    i += 1"
   ]
  },
  {
   "cell_type": "code",
   "execution_count": 1,
   "id": "3fbb85c6",
   "metadata": {},
   "outputs": [
    {
     "name": "stdout",
     "output_type": "stream",
     "text": [
      "0 1 2 3 4 6 7 8 9 "
     ]
    }
   ],
   "source": [
    "# ************\n",
    "# ************\n",
    "# ************\n",
    "# ************\n",
    "\n",
    "i = 0\n",
    "while i<10:\n",
    "    if i==5:\n",
    "        i += 1\n",
    "        continue\n",
    "    print(i, end=\" \")\n",
    "    i += 1"
   ]
  },
  {
   "cell_type": "code",
   "execution_count": null,
   "id": "2a2c665d",
   "metadata": {},
   "outputs": [],
   "source": []
  }
 ],
 "metadata": {
  "kernelspec": {
   "display_name": "Python 3 (ipykernel)",
   "language": "python",
   "name": "python3"
  },
  "language_info": {
   "codemirror_mode": {
    "name": "ipython",
    "version": 3
   },
   "file_extension": ".py",
   "mimetype": "text/x-python",
   "name": "python",
   "nbconvert_exporter": "python",
   "pygments_lexer": "ipython3",
   "version": "3.11.5"
  }
 },
 "nbformat": 4,
 "nbformat_minor": 5
}
