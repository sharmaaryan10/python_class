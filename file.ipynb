{
 "cells": [
  {
   "cell_type": "code",
   "execution_count": 1,
   "id": "5507b4f3",
   "metadata": {},
   "outputs": [],
   "source": [
    "# file = open(<file_name>,<mode>)\n",
    "# file.close()\n",
    "\n",
    "# with open(<file_name>,<mode>):\n",
    "#     <operations>\n",
    "\n",
    "# mode\n",
    "# read   ->  r\n",
    "# create ->  x\n",
    "# write  ->  w\n",
    "# append ->  a"
   ]
  },
  {
   "cell_type": "code",
   "execution_count": 3,
   "id": "1246dc2d",
   "metadata": {},
   "outputs": [
    {
     "name": "stdout",
     "output_type": "stream",
     "text": [
      "The file is already there!\n"
     ]
    }
   ],
   "source": [
    "try:\n",
    "    file = open('data.txt','x')\n",
    "    file.close()\n",
    "except:\n",
    "    print(\"The file is already there!\")"
   ]
  },
  {
   "cell_type": "code",
   "execution_count": 7,
   "id": "80b2d353",
   "metadata": {},
   "outputs": [
    {
     "name": "stdout",
     "output_type": "stream",
     "text": [
      "1.Hello World\n",
      "2.Hello World\n",
      "3.Hello World\n",
      "4.Hello World\n",
      "5.Hello World\n",
      "6.Hello World\n",
      "7.Hello World\n"
     ]
    }
   ],
   "source": [
    "file = open('data.txt','r')\n",
    "data = file.read()\n",
    "print(data)\n",
    "file.close()"
   ]
  },
  {
   "cell_type": "code",
   "execution_count": 8,
   "id": "ea0ae691",
   "metadata": {},
   "outputs": [
    {
     "name": "stdout",
     "output_type": "stream",
     "text": [
      "1.Hello World\n",
      "2.Hello World\n",
      "3.Hello World\n",
      "4.Hello World\n",
      "5.Hello World\n",
      "6.Hello World\n",
      "7.Hello World\n"
     ]
    }
   ],
   "source": [
    "with open('data.txt','r') as file:\n",
    "    print(file.read())"
   ]
  },
  {
   "cell_type": "code",
   "execution_count": 9,
   "id": "1f833cc0",
   "metadata": {},
   "outputs": [],
   "source": [
    "try:\n",
    "    file = open('data1.txt','x')\n",
    "    file.close()\n",
    "except:\n",
    "    print(\"The file is already there!\")"
   ]
  },
  {
   "cell_type": "code",
   "execution_count": 10,
   "id": "48aec3c5",
   "metadata": {},
   "outputs": [
    {
     "name": "stdout",
     "output_type": "stream",
     "text": [
      "sn,name,age,add,phone\n",
      "1,Ram,34,Kathmandu,98776352\n",
      "2,Shyam,45,Bhaktapur,492378\n",
      "3,Hari,23,Lalitpur,52924708\n",
      "4,nabin,45,Jhapa,27589034\n"
     ]
    }
   ],
   "source": [
    "file = open('data1.txt','r')\n",
    "data = file.read()\n",
    "print(data)\n",
    "file.close()"
   ]
  },
  {
   "cell_type": "code",
   "execution_count": 12,
   "id": "f29b59eb",
   "metadata": {},
   "outputs": [
    {
     "data": {
      "text/plain": [
       "['sn,name,age,add,phone',\n",
       " '1,Ram,34,Kathmandu,98776352',\n",
       " '2,Shyam,45,Bhaktapur,492378',\n",
       " '3,Hari,23,Lalitpur,52924708',\n",
       " '4,nabin,45,Jhapa,27589034']"
      ]
     },
     "execution_count": 12,
     "metadata": {},
     "output_type": "execute_result"
    }
   ],
   "source": [
    "data.split('\\n')"
   ]
  },
  {
   "cell_type": "code",
   "execution_count": 13,
   "id": "d8342779",
   "metadata": {},
   "outputs": [
    {
     "name": "stdout",
     "output_type": "stream",
     "text": [
      "['sn', 'name', 'age', 'add', 'phone']\n",
      "['1', 'Ram', '34', 'Kathmandu', '98776352']\n",
      "['2', 'Shyam', '45', 'Bhaktapur', '492378']\n",
      "['3', 'Hari', '23', 'Lalitpur', '52924708']\n",
      "['4', 'nabin', '45', 'Jhapa', '27589034']\n"
     ]
    }
   ],
   "source": [
    "x = data.split('\\n')\n",
    "for i in x:\n",
    "    print(i.split(','))"
   ]
  },
  {
   "cell_type": "code",
   "execution_count": 14,
   "id": "9ba4b85d",
   "metadata": {},
   "outputs": [
    {
     "data": {
      "text/plain": [
       "[['sn', 'name', 'age', 'add', 'phone'],\n",
       " ['1', 'Ram', '34', 'Kathmandu', '98776352'],\n",
       " ['2', 'Shyam', '45', 'Bhaktapur', '492378'],\n",
       " ['3', 'Hari', '23', 'Lalitpur', '52924708'],\n",
       " ['4', 'nabin', '45', 'Jhapa', '27589034']]"
      ]
     },
     "execution_count": 14,
     "metadata": {},
     "output_type": "execute_result"
    }
   ],
   "source": [
    "all_data = []\n",
    "x = data.split('\\n')\n",
    "for i in x:\n",
    "    all_data.append(i.split(','))\n",
    "all_data"
   ]
  },
  {
   "cell_type": "code",
   "execution_count": 16,
   "id": "386c01d6",
   "metadata": {},
   "outputs": [],
   "source": [
    "file = open('data2.txt','w')\n",
    "file.write(\"Hello World\")\n",
    "file.close()"
   ]
  },
  {
   "cell_type": "code",
   "execution_count": 18,
   "id": "86019fa6",
   "metadata": {},
   "outputs": [
    {
     "name": "stdout",
     "output_type": "stream",
     "text": [
      "Enter the count of items: 2\n",
      "\n",
      "Enter the name of product: apple\n",
      "Enter the unit price of apple : 10\n",
      "Enter the quantity of apple: 12\n",
      "\n",
      "Enter the name of product: mango\n",
      "Enter the unit price of mango : 12\n",
      "Enter the quantity of mango: 23\n"
     ]
    }
   ],
   "source": [
    "info = \"\"\n",
    "n = int(input(\"Enter the count of items: \"))\n",
    "i = 0\n",
    "while(i<n):\n",
    "    name = input(\"\\nEnter the name of product: \")\n",
    "    price = int(input(f\"Enter the unit price of {name} : \"))\n",
    "    qty = int(input(f\"Enter the quantity of {name}: \"))\n",
    "    total = price*qty\n",
    "    info = info + f\"{i+1}\\t{name}\\t{price}\\t{qty}\\t\\t{total}\\n\"\n",
    "    i += 1\n",
    "\n",
    "file = open('bill.txt','w')\n",
    "file.write('Name,Price,Quantity,Total\\n')\n",
    "file.write(info)\n",
    "file.close()"
   ]
  },
  {
   "cell_type": "code",
   "execution_count": 19,
   "id": "f74843c7",
   "metadata": {},
   "outputs": [
    {
     "name": "stdout",
     "output_type": "stream",
     "text": [
      "Enter the count of items: 2\n",
      "\n",
      "Enter the name of product: Apple\n",
      "Enter the unit price of Apple : 10\n",
      "Enter the quantity of Apple: 5\n",
      "\n",
      "Enter the name of product: mango\n",
      "Enter the unit price of mango : 12\n",
      "Enter the quantity of mango: 50\n"
     ]
    }
   ],
   "source": [
    "info = \"\"\n",
    "n = int(input(\"Enter the count of items: \"))\n",
    "i = 0\n",
    "while(i<n):\n",
    "    name = input(\"\\nEnter the name of product: \")\n",
    "    price = int(input(f\"Enter the unit price of {name} : \"))\n",
    "    qty = int(input(f\"Enter the quantity of {name}: \"))\n",
    "    total = price*qty\n",
    "    info = info + f\"{i+1},{name},{price},{qty},{total}\\n\"\n",
    "    i += 1\n",
    "\n",
    "file = open('bill.csv','w')\n",
    "file.write('Name,Price,Quantity,Total\\n')\n",
    "file.write(info)\n",
    "file.close()"
   ]
  },
  {
   "cell_type": "code",
   "execution_count": 20,
   "id": "14feb8dc",
   "metadata": {},
   "outputs": [
    {
     "data": {
      "text/plain": [
       "'C:\\\\Users\\\\Lenovo\\\\Class_4pm_python'"
      ]
     },
     "execution_count": 20,
     "metadata": {},
     "output_type": "execute_result"
    }
   ],
   "source": [
    "pwd"
   ]
  },
  {
   "cell_type": "code",
   "execution_count": 22,
   "id": "060a1f59",
   "metadata": {},
   "outputs": [
    {
     "name": "stdout",
     "output_type": "stream",
     "text": [
      "Enter the count of items: 1\n",
      "\n",
      "Enter the name of product: ball\n",
      "Enter the unit price of ball : 10\n",
      "Enter the quantity of ball: 12\n"
     ]
    }
   ],
   "source": [
    "#append mode\n",
    "info = \"\"\n",
    "n = int(input(\"Enter the count of items: \"))\n",
    "i = 0\n",
    "while(i<n):\n",
    "    name = input(\"\\nEnter the name of product: \")\n",
    "    price = int(input(f\"Enter the unit price of {name} : \"))\n",
    "    qty = int(input(f\"Enter the quantity of {name}: \"))\n",
    "    total = price*qty\n",
    "    info = info + f\"{i+1},{name},{price},{qty},{total}\\n\"\n",
    "    i += 1\n",
    "\n",
    "file = open('bill.csv','a')\n",
    "file.write(info)\n",
    "file.close()"
   ]
  },
  {
   "cell_type": "code",
   "execution_count": 23,
   "id": "5d4bc652",
   "metadata": {},
   "outputs": [],
   "source": [
    "# writerows()"
   ]
  },
  {
   "cell_type": "code",
   "execution_count": null,
   "id": "81a07006",
   "metadata": {},
   "outputs": [],
   "source": []
  }
 ],
 "metadata": {
  "kernelspec": {
   "display_name": "Python 3 (ipykernel)",
   "language": "python",
   "name": "python3"
  },
  "language_info": {
   "codemirror_mode": {
    "name": "ipython",
    "version": 3
   },
   "file_extension": ".py",
   "mimetype": "text/x-python",
   "name": "python",
   "nbconvert_exporter": "python",
   "pygments_lexer": "ipython3",
   "version": "3.11.5"
  }
 },
 "nbformat": 4,
 "nbformat_minor": 5
}
