{
 "cells": [
  {
   "cell_type": "code",
   "execution_count": 2,
   "id": "811bd7e9",
   "metadata": {},
   "outputs": [],
   "source": [
    "# print() int() float() str() set() list() dict() input() type()"
   ]
  },
  {
   "cell_type": "code",
   "execution_count": 3,
   "id": "5d0d3458",
   "metadata": {},
   "outputs": [],
   "source": [
    "# def <function_name>():\n",
    "#     <operations>\n",
    "\n",
    "# function_name()"
   ]
  },
  {
   "cell_type": "code",
   "execution_count": 4,
   "id": "5d47ea3a",
   "metadata": {},
   "outputs": [
    {
     "name": "stdout",
     "output_type": "stream",
     "text": [
      "Hello World\n"
     ]
    }
   ],
   "source": [
    "def hello():\n",
    "    print(\"Hello World\")\n",
    "\n",
    "hello()"
   ]
  },
  {
   "cell_type": "code",
   "execution_count": 5,
   "id": "cb19f21e",
   "metadata": {},
   "outputs": [
    {
     "name": "stdout",
     "output_type": "stream",
     "text": [
      "Enter l: 100\n",
      "Ebter b: 50\n",
      "5000\n"
     ]
    }
   ],
   "source": [
    "def cal():\n",
    "    l = int(input(\"Enter l: \"))   # local variable\n",
    "    b = int(input(\"Ebter b: \"))   # local variable\n",
    "    a = l*b\n",
    "    print(a)\n",
    "\n",
    "cal()"
   ]
  },
  {
   "cell_type": "code",
   "execution_count": 6,
   "id": "6764ee9b",
   "metadata": {},
   "outputs": [
    {
     "name": "stdout",
     "output_type": "stream",
     "text": [
      "Enter l: 5\n",
      "Ebter b: 10\n",
      "50\n"
     ]
    }
   ],
   "source": [
    "l = int(input(\"Enter l: \"))   # global variable\n",
    "b = int(input(\"Ebter b: \"))   # global variable\n",
    "def cal():\n",
    "    a = l*b\n",
    "    print(a)\n",
    "\n",
    "cal()"
   ]
  },
  {
   "cell_type": "code",
   "execution_count": 7,
   "id": "cc5c4440",
   "metadata": {},
   "outputs": [],
   "source": [
    "# function without argument & no return type\n",
    "# function with argument & no return type\n",
    "# function without argument & return type\n",
    "# function with argument & return type"
   ]
  },
  {
   "cell_type": "code",
   "execution_count": 8,
   "id": "c726a6b6",
   "metadata": {},
   "outputs": [
    {
     "name": "stdout",
     "output_type": "stream",
     "text": [
      "10\n"
     ]
    }
   ],
   "source": [
    "# function with argument & no return type\n",
    "\n",
    "def cal(l,b):   # l,b is parameter \n",
    "    a = l*b\n",
    "    print(a)\n",
    "\n",
    "cal(5,2)"
   ]
  },
  {
   "cell_type": "code",
   "execution_count": 11,
   "id": "df545e8c",
   "metadata": {},
   "outputs": [
    {
     "name": "stdout",
     "output_type": "stream",
     "text": [
      "Enter name: ram\n",
      "Enter age: 24\n",
      "Enter address: kathmandu\n",
      "Hello World I am ram.I am from kathmandu.I am 24 years old\n"
     ]
    }
   ],
   "source": [
    "# function with argument & no return type\n",
    "\n",
    "def info(x,y,z):\n",
    "    print(f'Hello World I am {x}.I am from {z}.I am {y} years old')\n",
    "\n",
    "name = input(\"Enter name: \")\n",
    "age = int(input(\"Enter age: \"))\n",
    "add = input(\"Enter address: \")\n",
    "\n",
    "info(name,age,add)"
   ]
  },
  {
   "cell_type": "code",
   "execution_count": 13,
   "id": "17075019",
   "metadata": {},
   "outputs": [
    {
     "name": "stdout",
     "output_type": "stream",
     "text": [
      "Enter a: 12\n",
      "Enter b: 8\n",
      "Enter the operator + or - * or /: +\n",
      "20\n"
     ]
    }
   ],
   "source": [
    "def cal(a,b,o):\n",
    "    if o == \"+\":\n",
    "        print(a+b)\n",
    "    elif o == \"-\":\n",
    "        print(a-b)\n",
    "    elif o == \"*\":\n",
    "        print(a*b)\n",
    "    elif o == \"/\":\n",
    "        if b != 0:\n",
    "            print(a/b)\n",
    "        else:\n",
    "            print(\"The value of b can't be zero\")\n",
    "    else:\n",
    "        print(\"Enter valid operator: \")\n",
    "        \n",
    "a = int(input(\"Enter a: \"))\n",
    "b = int(input(\"Enter b: \"))\n",
    "o = input(\"Enter the operator + or - * or /: \")\n",
    "cal(a,b,o)"
   ]
  },
  {
   "cell_type": "code",
   "execution_count": 16,
   "id": "ba69ce05",
   "metadata": {},
   "outputs": [
    {
     "name": "stdout",
     "output_type": "stream",
     "text": [
      "Enter your name: hari\n",
      "Enter your Physics marks: 98\n",
      "Enter your Chemistry marks: 89\n",
      "Enter your Maths marks: 90\n",
      "\n",
      "Your name is:  hari\n",
      "Your total score is:  277\n",
      "Your percentage is:  92.33333333333333 %\n",
      "Your grade is:  A\n"
     ]
    }
   ],
   "source": [
    "def result(info):\n",
    "#     total = m1+m2+m3\n",
    "    total = sum(info[1:])\n",
    "    perc = (total*100)/300\n",
    "    if perc>=80:\n",
    "        grade = \"A\"\n",
    "    elif perc>=60:\n",
    "        grade = \"B\"\n",
    "    elif perc>=45:\n",
    "        grade = \"C\"\n",
    "    else:\n",
    "        grade = \"F\"\n",
    "    \n",
    "    print(\"\\nYour name is: \",info[0])\n",
    "    print(\"Your total score is: \",total)\n",
    "    print(\"Your percentage is: \",perc,\"%\")\n",
    "    print(\"Your grade is: \",grade)\n",
    "\n",
    "name = input(\"Enter your name: \")\n",
    "m1 = int(input(\"Enter your Physics marks: \"))\n",
    "m2 = int(input(\"Enter your Chemistry marks: \"))\n",
    "m3 = int(input(\"Enter your Maths marks: \"))\n",
    "info = [name,m1,m2,m3]\n",
    "result(info)"
   ]
  },
  {
   "cell_type": "code",
   "execution_count": 20,
   "id": "33044d01",
   "metadata": {},
   "outputs": [
    {
     "name": "stdout",
     "output_type": "stream",
     "text": [
      "C\n",
      "C++\n",
      "C#\n",
      "Java\n",
      "Python\n",
      "65\n"
     ]
    }
   ],
   "source": [
    "def language(lan = \"Python\"):\n",
    "    print(lan)\n",
    "\n",
    "language(\"C\")\n",
    "language(\"C++\")\n",
    "language(\"C#\")\n",
    "language(\"Java\")\n",
    "language()\n",
    "language(65)"
   ]
  },
  {
   "cell_type": "code",
   "execution_count": 21,
   "id": "df121805",
   "metadata": {},
   "outputs": [
    {
     "name": "stdout",
     "output_type": "stream",
     "text": [
      "15\n",
      "6\n"
     ]
    }
   ],
   "source": [
    "def area(l,b=2):\n",
    "    a = l*b\n",
    "    print(a)\n",
    "    \n",
    "area(5,3)\n",
    "area(3)"
   ]
  },
  {
   "cell_type": "markdown",
   "id": "a64b8a34",
   "metadata": {},
   "source": [
    "# return type function"
   ]
  },
  {
   "cell_type": "code",
   "execution_count": 22,
   "id": "d5c8df9e",
   "metadata": {},
   "outputs": [
    {
     "name": "stdout",
     "output_type": "stream",
     "text": [
      "20\n"
     ]
    }
   ],
   "source": [
    "def area(l,b):\n",
    "    a = l*b\n",
    "    return a\n",
    "\n",
    "ar = area(5,2)\n",
    "h = 2\n",
    "v = h*ar\n",
    "print(v)"
   ]
  },
  {
   "cell_type": "code",
   "execution_count": 4,
   "id": "15b73aa9",
   "metadata": {},
   "outputs": [
    {
     "name": "stdout",
     "output_type": "stream",
     "text": [
      "The area is:  50\n",
      "The volume:  100\n"
     ]
    }
   ],
   "source": [
    "def cal(l,b,h):\n",
    "    a = l*b\n",
    "    v = a*h\n",
    "    return a,v\n",
    "\n",
    "area , volume = cal(10,5,2)\n",
    "print(\"The area is: \",area)\n",
    "print(\"The volume: \", volume)"
   ]
  },
  {
   "cell_type": "code",
   "execution_count": 6,
   "id": "50855d5e",
   "metadata": {},
   "outputs": [
    {
     "name": "stdout",
     "output_type": "stream",
     "text": [
      "Enter a: 4\n",
      "Enter b: 2\n",
      "Enter the operator + or - * or /: /\n",
      "2.0\n"
     ]
    }
   ],
   "source": [
    "def add(a,b):\n",
    "    return a+b\n",
    "def sub(a,b):\n",
    "    return a-b\n",
    "def mul(a,b):\n",
    "    return a*b\n",
    "def div(a,b):\n",
    "    return a/b\n",
    "\n",
    "a = int(input(\"Enter a: \"))\n",
    "b = int(input(\"Enter b: \"))\n",
    "o = input(\"Enter the operator + or - * or /: \")\n",
    "\n",
    "if o == \"+\":\n",
    "    print(add(a,b))\n",
    "elif o == \"-\":\n",
    "    print(sub(a,b))\n",
    "elif o == \"*\":\n",
    "    print(mul(a,b))\n",
    "elif o == \"/\":\n",
    "    if b != 0:\n",
    "        print(div(a,b))\n",
    "    else:\n",
    "        print(\"The value of b can't be zero\")\n",
    "else:\n",
    "    print(\"Enter valid operator: \")"
   ]
  },
  {
   "cell_type": "markdown",
   "id": "a39c5430",
   "metadata": {},
   "source": [
    "# lambda function( in python.....)"
   ]
  },
  {
   "cell_type": "code",
   "execution_count": null,
   "id": "8f0ed00a",
   "metadata": {},
   "outputs": [],
   "source": [
    "#  x = lambda <arguments>:<operation>\n",
    "# use small operations inside it"
   ]
  },
  {
   "cell_type": "code",
   "execution_count": null,
   "id": "e411586c",
   "metadata": {},
   "outputs": [],
   "source": [
    "x = lambda a:a**2\n",
    "print(x(5))"
   ]
  },
  {
   "cell_type": "code",
   "execution_count": 7,
   "id": "64173cf9",
   "metadata": {},
   "outputs": [
    {
     "name": "stdout",
     "output_type": "stream",
     "text": [
      "25\n"
     ]
    }
   ],
   "source": [
    "x = lambda l,b:l*b\n",
    "print(x(5,5))"
   ]
  },
  {
   "cell_type": "markdown",
   "id": "ea327c41",
   "metadata": {},
   "source": [
    "# map() & filter()"
   ]
  },
  {
   "cell_type": "code",
   "execution_count": 8,
   "id": "643f731b",
   "metadata": {},
   "outputs": [],
   "source": [
    "# functions generally used with lambda functions\n",
    "# map() , filter()\n",
    "# reduce() ......"
   ]
  },
  {
   "cell_type": "code",
   "execution_count": null,
   "id": "821213e2",
   "metadata": {},
   "outputs": [],
   "source": [
    "#map()\n",
    "# list(map(lambda <argument>:<operation>,list))\n",
    "\n",
    "#filter()\n",
    "# list(filter(lambda <argument>:<condition>,list))"
   ]
  },
  {
   "cell_type": "code",
   "execution_count": 9,
   "id": "e94c4d71",
   "metadata": {},
   "outputs": [
    {
     "data": {
      "text/plain": [
       "[9500.0, 19000.0, 28500.0, 38000.0, 47500.0, 57000.0]"
      ]
     },
     "execution_count": 9,
     "metadata": {},
     "output_type": "execute_result"
    }
   ],
   "source": [
    "a = [10000,20000,30000,40000,50000,60000]\n",
    "list(map(lambda x:x*0.95, a))"
   ]
  },
  {
   "cell_type": "code",
   "execution_count": 10,
   "id": "27b4a382",
   "metadata": {},
   "outputs": [
    {
     "data": {
      "text/plain": [
       "['apple', 'ball', 'cat']"
      ]
     },
     "execution_count": 10,
     "metadata": {},
     "output_type": "execute_result"
    }
   ],
   "source": [
    "a = [\"Apple\", \"Ball\", \"Cat\"]\n",
    "b = list(map(lambda x:x.lower(),a))\n",
    "b"
   ]
  },
  {
   "cell_type": "code",
   "execution_count": 11,
   "id": "189f54f1",
   "metadata": {},
   "outputs": [
    {
     "data": {
      "text/plain": [
       "[40000, 50000, 60000]"
      ]
     },
     "execution_count": 11,
     "metadata": {},
     "output_type": "execute_result"
    }
   ],
   "source": [
    "a = [10000,20000,30000,40000,50000,60000]\n",
    "list(filter(lambda x:x>30000, a))"
   ]
  },
  {
   "cell_type": "markdown",
   "id": "a505da06",
   "metadata": {},
   "source": [
    "# list as a comprehension"
   ]
  },
  {
   "cell_type": "code",
   "execution_count": 12,
   "id": "5bc68755",
   "metadata": {},
   "outputs": [
    {
     "data": {
      "text/plain": [
       "[1, 2, 3, 4, 5, 6, 7, 8, 9, 10, 11, 12, 13, 14, 15, 16, 17, 18, 19, 20]"
      ]
     },
     "execution_count": 12,
     "metadata": {},
     "output_type": "execute_result"
    }
   ],
   "source": [
    "a = [i for i in range(1,21)]\n",
    "a"
   ]
  },
  {
   "cell_type": "code",
   "execution_count": 13,
   "id": "cd1261c7",
   "metadata": {},
   "outputs": [
    {
     "data": {
      "text/plain": [
       "[1,\n",
       " 4,\n",
       " 9,\n",
       " 16,\n",
       " 25,\n",
       " 36,\n",
       " 49,\n",
       " 64,\n",
       " 81,\n",
       " 100,\n",
       " 121,\n",
       " 144,\n",
       " 169,\n",
       " 196,\n",
       " 225,\n",
       " 256,\n",
       " 289,\n",
       " 324,\n",
       " 361,\n",
       " 400]"
      ]
     },
     "execution_count": 13,
     "metadata": {},
     "output_type": "execute_result"
    }
   ],
   "source": [
    "a = [i**2 for i in range(1,21)]\n",
    "a"
   ]
  },
  {
   "cell_type": "code",
   "execution_count": 14,
   "id": "2b7b6323",
   "metadata": {},
   "outputs": [
    {
     "name": "stdout",
     "output_type": "stream",
     "text": [
      "Enter value: 10\n",
      "Enter value: 11\n",
      "Enter value: 12\n",
      "Enter value: 13\n",
      "Enter value: 14\n"
     ]
    },
    {
     "data": {
      "text/plain": [
       "[10, 11, 12, 13, 14]"
      ]
     },
     "execution_count": 14,
     "metadata": {},
     "output_type": "execute_result"
    }
   ],
   "source": [
    "a = [int(input(\"Enter value: \")) for i in range(5)]\n",
    "a"
   ]
  },
  {
   "cell_type": "markdown",
   "id": "d95a0845",
   "metadata": {},
   "source": [
    "# dictionary as a comprehension"
   ]
  },
  {
   "cell_type": "code",
   "execution_count": 16,
   "id": "d35386fd",
   "metadata": {},
   "outputs": [
    {
     "name": "stdout",
     "output_type": "stream",
     "text": [
      "Enter name: ram\n",
      "Enter phone no: 234\n",
      "Enter name: shyam\n",
      "Enter phone no: 456\n"
     ]
    }
   ],
   "source": [
    "a = {input(\"Enter name: \"):input(\"Enter phone no: \") for i in range(2)}"
   ]
  },
  {
   "cell_type": "markdown",
   "id": "77a1c2a2",
   "metadata": {},
   "source": [
    "# recursive function"
   ]
  },
  {
   "cell_type": "code",
   "execution_count": 1,
   "id": "b01e7cd5",
   "metadata": {},
   "outputs": [
    {
     "name": "stdout",
     "output_type": "stream",
     "text": [
      "Hello World\n",
      "Enter y for more print: y\n",
      "Hello World\n",
      "Enter y for more print: Y\n"
     ]
    }
   ],
   "source": [
    "def hello():\n",
    "    print(\"Hello World\")\n",
    "    x = input(\"Enter y for more print: \")\n",
    "    if x == 'y':\n",
    "        hello()\n",
    "\n",
    "hello()"
   ]
  },
  {
   "cell_type": "markdown",
   "id": "1df95294",
   "metadata": {},
   "source": [
    "# math function"
   ]
  },
  {
   "cell_type": "code",
   "execution_count": 2,
   "id": "889b5aeb",
   "metadata": {},
   "outputs": [
    {
     "name": "stdout",
     "output_type": "stream",
     "text": [
      "Enter radius: 5\n",
      "78.53981633974483\n"
     ]
    }
   ],
   "source": [
    "import math as m \n",
    "\n",
    "r = float(input(\"Enter radius: \"))\n",
    "a = m.pi*m.pow(r,2)\n",
    "print(a)"
   ]
  },
  {
   "cell_type": "code",
   "execution_count": 4,
   "id": "d15c4c5f",
   "metadata": {},
   "outputs": [
    {
     "name": "stdout",
     "output_type": "stream",
     "text": [
      "0.8939966636005579\n",
      "1.0\n"
     ]
    }
   ],
   "source": [
    "a = m.sin(90)\n",
    "print(a)\n",
    "\n",
    "a = m.sin(m.pi/2)\n",
    "print(a)"
   ]
  },
  {
   "cell_type": "code",
   "execution_count": null,
   "id": "7087f9bf",
   "metadata": {},
   "outputs": [],
   "source": []
  }
 ],
 "metadata": {
  "kernelspec": {
   "display_name": "Python 3 (ipykernel)",
   "language": "python",
   "name": "python3"
  },
  "language_info": {
   "codemirror_mode": {
    "name": "ipython",
    "version": 3
   },
   "file_extension": ".py",
   "mimetype": "text/x-python",
   "name": "python",
   "nbconvert_exporter": "python",
   "pygments_lexer": "ipython3",
   "version": "3.11.5"
  }
 },
 "nbformat": 4,
 "nbformat_minor": 5
}
