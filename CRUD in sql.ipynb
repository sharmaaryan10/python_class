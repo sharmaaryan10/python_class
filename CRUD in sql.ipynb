{
 "cells": [
  {
   "cell_type": "code",
   "execution_count": 2,
   "id": "7e8e5860",
   "metadata": {},
   "outputs": [],
   "source": [
    "# !pip install mysql-connector"
   ]
  },
  {
   "cell_type": "code",
   "execution_count": 5,
   "id": "fef63ebb",
   "metadata": {},
   "outputs": [],
   "source": [
    "import mysql.connector\n",
    "#importing database\n",
    "database = mysql.connector.connect(\n",
    "host=\"localhost\",\n",
    "user=\"root\",\n",
    "password=\"\",\n",
    "\n",
    "database = \"pythonclass4pm\"\n",
    ")\n",
    "db = database.cursor()"
   ]
  },
  {
   "cell_type": "markdown",
   "id": "1ee6d026",
   "metadata": {},
   "source": [
    " # Read data from database\n"
   ]
  },
  {
   "cell_type": "code",
   "execution_count": 6,
   "id": "6b773da1",
   "metadata": {},
   "outputs": [
    {
     "name": "stdout",
     "output_type": "stream",
     "text": [
      "[(1, 'Hari', 78, 58, 90, 89, 78, 300, 78.0, 'P'), (2, 'Ram', 89, 90, 87, 88, 91, 410, 87.0, 'P')]\n"
     ]
    }
   ],
   "source": [
    "sql = \"SELECT * from student\"\n",
    "db.execute(sql)\n",
    "result = db.fetchall()\n",
    "print(result)"
   ]
  },
  {
   "cell_type": "code",
   "execution_count": 7,
   "id": "e204a065",
   "metadata": {},
   "outputs": [
    {
     "name": "stdout",
     "output_type": "stream",
     "text": [
      "[(1, 'Hari', 300, 'P'), (2, 'Ram', 410, 'P')]\n"
     ]
    }
   ],
   "source": [
    "sql = \"SELECT sn,name,total,grade from student\"\n",
    "db.execute(sql)\n",
    "result = db.fetchall()\n",
    "print(result)"
   ]
  },
  {
   "cell_type": "code",
   "execution_count": 8,
   "id": "83e0640a",
   "metadata": {},
   "outputs": [
    {
     "name": "stdout",
     "output_type": "stream",
     "text": [
      "[(1, 'Hari', 78, 58, 90, 89, 78, 300, 78.0, 'P'), (2, 'Ram', 89, 90, 87, 88, 91, 410, 87.0, 'P')]\n"
     ]
    }
   ],
   "source": [
    "sql = \"SELECT * from student WHERE grade = 'P'\"\n",
    "db.execute(sql)\n",
    "result = db.fetchall()\n",
    "print(result)"
   ]
  },
  {
   "cell_type": "markdown",
   "id": "dadccb7e",
   "metadata": {},
   "source": [
    "# Insert in database"
   ]
  },
  {
   "cell_type": "code",
   "execution_count": 9,
   "id": "9c786df3",
   "metadata": {},
   "outputs": [],
   "source": [
    "sql = '''INSERT INTO `student` (`name`, `physics`, `chemistry`, `math`, `english`, `nepali`, `total`, `per`, `grade`) \n",
    "VALUES ('Gita', '89', '88', '89', '92', '98', '230', '91', 'P');'''\n",
    "\n",
    "db.execute(sql)\n",
    "database.commit()"
   ]
  },
  {
   "cell_type": "code",
   "execution_count": 10,
   "id": "335076b7",
   "metadata": {},
   "outputs": [],
   "source": [
    "# WAP to take input from user & insert it into database (use string formatting)\n",
    "\n",
    "# sql = '''INSERT INTO `student` (`name`, `physics`, `chemistry`, `math`, `english`, `nepali`, `total`, `per`, `grade`) \n",
    "# VALUES ({info});'''\n"
   ]
  },
  {
   "cell_type": "code",
   "execution_count": 11,
   "id": "49807156",
   "metadata": {},
   "outputs": [],
   "source": [
    "sql = '''INSERT INTO `student` (`name`, `physics`, `chemistry`, `math`, `english`, `nepali`, `total`, `per`, `grade`) \n",
    "VALUES ('Sita_Gita', '89', '88', '89', '92', '98', '230', '91', 'P');'''\n",
    "\n",
    "db.execute(sql)\n",
    "database.commit()"
   ]
  },
  {
   "cell_type": "markdown",
   "id": "35130672",
   "metadata": {},
   "source": [
    "# Update "
   ]
  },
  {
   "cell_type": "code",
   "execution_count": 13,
   "id": "2c3c3ee1",
   "metadata": {},
   "outputs": [],
   "source": [
    "sql = \"UPDATE student SET `name` = 'Sita Gita' WHERE `student`.`sn` = 5;\"\n",
    "db.execute(sql)\n",
    "database.commit()"
   ]
  },
  {
   "cell_type": "markdown",
   "id": "fb7b7e79",
   "metadata": {},
   "source": [
    "# Delete"
   ]
  },
  {
   "cell_type": "code",
   "execution_count": 14,
   "id": "161245ef",
   "metadata": {},
   "outputs": [],
   "source": [
    "sql = \"DELETE from student where sn=5\"\n",
    "db.execute(sql)\n",
    "database.commit()"
   ]
  },
  {
   "cell_type": "code",
   "execution_count": null,
   "id": "aa3786c6",
   "metadata": {},
   "outputs": [],
   "source": []
  }
 ],
 "metadata": {
  "kernelspec": {
   "display_name": "Python 3 (ipykernel)",
   "language": "python",
   "name": "python3"
  },
  "language_info": {
   "codemirror_mode": {
    "name": "ipython",
    "version": 3
   },
   "file_extension": ".py",
   "mimetype": "text/x-python",
   "name": "python",
   "nbconvert_exporter": "python",
   "pygments_lexer": "ipython3",
   "version": "3.11.5"
  }
 },
 "nbformat": 4,
 "nbformat_minor": 5
}
