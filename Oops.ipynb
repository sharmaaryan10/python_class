{
 "cells": [
  {
   "cell_type": "code",
   "execution_count": 1,
   "id": "789a0c7c",
   "metadata": {},
   "outputs": [
    {
     "name": "stdout",
     "output_type": "stream",
     "text": [
      "Hello World\n"
     ]
    }
   ],
   "source": [
    "class Hello:                # class\n",
    "    print(\"Hello World\")\n",
    "\n",
    "obj = Hello()               # Object"
   ]
  },
  {
   "cell_type": "code",
   "execution_count": 3,
   "id": "42a59dec",
   "metadata": {},
   "outputs": [
    {
     "name": "stdout",
     "output_type": "stream",
     "text": [
      "Hello World\n"
     ]
    }
   ],
   "source": [
    "class Hello:\n",
    "    def hello(self):\n",
    "        print(\"Hello World\")\n",
    "        \n",
    "obj = Hello()\n",
    "obj.hello()"
   ]
  },
  {
   "cell_type": "code",
   "execution_count": 4,
   "id": "8544fd08",
   "metadata": {},
   "outputs": [
    {
     "name": "stdout",
     "output_type": "stream",
     "text": [
      "Hello World\n"
     ]
    }
   ],
   "source": [
    "class Hello:\n",
    "    @staticmethod\n",
    "    def hello():\n",
    "        print(\"Hello World\")\n",
    "        \n",
    "obj = Hello()\n",
    "obj.hello()"
   ]
  },
  {
   "cell_type": "code",
   "execution_count": 6,
   "id": "8770b929",
   "metadata": {},
   "outputs": [
    {
     "name": "stdout",
     "output_type": "stream",
     "text": [
      "Hello I am Ram.I am from Kathmandu.I am 78\n"
     ]
    }
   ],
   "source": [
    "class Info:\n",
    "    def __init__(self):\n",
    "        self.name = \"Ram\"\n",
    "        self.age = 78\n",
    "        self.add = \"Kathmandu\"\n",
    "    \n",
    "    def info(self):\n",
    "        print(f\"Hello I am {self.name}.I am from {self.add}.I am {self.age}\")\n",
    "        \n",
    "obj = Info()\n",
    "obj.info()"
   ]
  },
  {
   "cell_type": "code",
   "execution_count": 7,
   "id": "0b1ee34a",
   "metadata": {},
   "outputs": [
    {
     "name": "stdout",
     "output_type": "stream",
     "text": [
      "Enter name: Hari\n",
      "Enter age: 34\n",
      "Enter add: Bkt\n",
      "Hello I am Hari.I am from Bkt.I am 34\n"
     ]
    }
   ],
   "source": [
    "class Info:\n",
    "    def __init__(self,name,age,add):\n",
    "        self.name = name\n",
    "        self.age = age\n",
    "        self.add = add\n",
    "    \n",
    "    def info(self):\n",
    "        print(f\"Hello I am {self.name}.I am from {self.add}.I am {self.age}\")\n",
    "        \n",
    "name = input(\"Enter name: \")\n",
    "age = int(input(\"Enter age: \"))\n",
    "add = input(\"Enter add: \")\n",
    "\n",
    "obj = Info(name,age,add)\n",
    "obj.info()"
   ]
  },
  {
   "cell_type": "code",
   "execution_count": 1,
   "id": "a0864d27",
   "metadata": {},
   "outputs": [
    {
     "name": "stdout",
     "output_type": "stream",
     "text": [
      "Enter name: Gita\n",
      "Enter age: 34\n",
      "Enter add: Ltl\n",
      "Hello I am Gita.I am from Ltl.I am 34\n"
     ]
    }
   ],
   "source": [
    "# hybrid one , changing the parameter for address variable \n",
    "\n",
    "class Info:\n",
    "    def __init__(self,name,age):\n",
    "        self.name = name\n",
    "        self.age = age\n",
    "    \n",
    "    def info(self,add):\n",
    "        print(f\"Hello I am {self.name}.I am from {add}.I am {self.age}\")\n",
    "        \n",
    "name = input(\"Enter name: \")\n",
    "age = int(input(\"Enter age: \"))\n",
    "add = input(\"Enter add: \")\n",
    "\n",
    "obj = Info(name,age)\n",
    "obj.info(add)"
   ]
  },
  {
   "cell_type": "code",
   "execution_count": 2,
   "id": "d4729a36",
   "metadata": {},
   "outputs": [
    {
     "name": "stdout",
     "output_type": "stream",
     "text": [
      "Enter name: Sam\n",
      "Enter age: 45\n",
      "Enter add: Btl\n",
      "Hello I am Sam.I am from Btl.I am 45\n",
      "Sam 45\n"
     ]
    }
   ],
   "source": [
    "class Info:\n",
    "    def __init__(self,name,age):\n",
    "        self.name = name\n",
    "        self.age = age\n",
    "    \n",
    "    def info(self,add):\n",
    "        print(f\"Hello I am {self.name}.I am from {add}.I am {self.age}\")\n",
    "    \n",
    "    def data(self):\n",
    "        print(self.name,self.age)\n",
    "        \n",
    "name = input(\"Enter name: \")\n",
    "age = int(input(\"Enter age: \"))\n",
    "add = input(\"Enter add: \")\n",
    "\n",
    "obj = Info(name,age)\n",
    "obj.info(add)\n",
    "obj.data()"
   ]
  },
  {
   "cell_type": "markdown",
   "id": "f15a0a96",
   "metadata": {},
   "source": [
    "# _ _str_ _() method"
   ]
  },
  {
   "cell_type": "code",
   "execution_count": 8,
   "id": "3c129b37",
   "metadata": {},
   "outputs": [
    {
     "name": "stdout",
     "output_type": "stream",
     "text": [
      "Ram\n",
      "<class '__main__.Info'>\n"
     ]
    }
   ],
   "source": [
    "class Info:\n",
    "    def __init__(self):\n",
    "        self.name = \"Ram\"\n",
    "        self.age = 78\n",
    "        self.add = \"Kathmandu\"\n",
    "    \n",
    "    def __str__(self):\n",
    "        return self.name\n",
    "        \n",
    "obj = Info()\n",
    "print(obj)\n",
    "print(type(obj))\n",
    "# print(obj + \"Shyam\")  --> gives error for not matching type of operands i.e. object & string"
   ]
  },
  {
   "cell_type": "code",
   "execution_count": 11,
   "id": "d1b71f37",
   "metadata": {},
   "outputs": [
    {
     "name": "stdout",
     "output_type": "stream",
     "text": [
      "50\n",
      "100\n"
     ]
    }
   ],
   "source": [
    "class Area:\n",
    "    def __init__(self,l,b):\n",
    "        self.l = l\n",
    "        self.b = b\n",
    "    def area(self):\n",
    "        a = self.l*self.b\n",
    "        print(a)\n",
    "\n",
    "class Volume:\n",
    "    def __init__(self,l,b,h):\n",
    "        self.l = l\n",
    "        self.b = b\n",
    "        self.h = h\n",
    "    \n",
    "    def volume(self):\n",
    "        v = self.l*self.b*self.h\n",
    "        print(v)\n",
    "        \n",
    "obj1 = Area(10,5)\n",
    "obj2 = Volume(10,5,2)\n",
    "obj1.area()\n",
    "obj2.volume()"
   ]
  },
  {
   "cell_type": "code",
   "execution_count": null,
   "id": "722f3dda",
   "metadata": {},
   "outputs": [],
   "source": []
  },
  {
   "cell_type": "code",
   "execution_count": null,
   "id": "77fd9326",
   "metadata": {},
   "outputs": [],
   "source": []
  }
 ],
 "metadata": {
  "kernelspec": {
   "display_name": "Python 3 (ipykernel)",
   "language": "python",
   "name": "python3"
  },
  "language_info": {
   "codemirror_mode": {
    "name": "ipython",
    "version": 3
   },
   "file_extension": ".py",
   "mimetype": "text/x-python",
   "name": "python",
   "nbconvert_exporter": "python",
   "pygments_lexer": "ipython3",
   "version": "3.11.5"
  }
 },
 "nbformat": 4,
 "nbformat_minor": 5
}
