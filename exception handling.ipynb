{
 "cells": [
  {
   "cell_type": "code",
   "execution_count": 2,
   "id": "213e318f",
   "metadata": {},
   "outputs": [
    {
     "name": "stdout",
     "output_type": "stream",
     "text": [
      "There is no such file\n"
     ]
    }
   ],
   "source": [
    "try:\n",
    "    file = open('data.txv','r')\n",
    "    file.close()\n",
    "except:\n",
    "    print(\"There is no such file\")"
   ]
  },
  {
   "cell_type": "code",
   "execution_count": 3,
   "id": "f34fcd24",
   "metadata": {},
   "outputs": [
    {
     "name": "stdout",
     "output_type": "stream",
     "text": [
      "Enter age: Ten\n",
      "The value should be integer\n"
     ]
    }
   ],
   "source": [
    "try:\n",
    "    age = int(input(\"Enter age: \"))\n",
    "    print(age)\n",
    "except:\n",
    "    print(\"The value should be integer\")"
   ]
  },
  {
   "cell_type": "code",
   "execution_count": 4,
   "id": "1397d44e",
   "metadata": {},
   "outputs": [
    {
     "name": "stdout",
     "output_type": "stream",
     "text": [
      "Enter a: 2\n",
      "Enter b: 0\n"
     ]
    },
    {
     "ename": "ZeroDivisionError",
     "evalue": "division by zero",
     "output_type": "error",
     "traceback": [
      "\u001b[1;31m---------------------------------------------------------------------------\u001b[0m",
      "\u001b[1;31mZeroDivisionError\u001b[0m                         Traceback (most recent call last)",
      "Cell \u001b[1;32mIn[4], line 3\u001b[0m\n\u001b[0;32m      1\u001b[0m a \u001b[38;5;241m=\u001b[39m \u001b[38;5;28mint\u001b[39m(\u001b[38;5;28minput\u001b[39m(\u001b[38;5;124m\"\u001b[39m\u001b[38;5;124mEnter a: \u001b[39m\u001b[38;5;124m\"\u001b[39m))\n\u001b[0;32m      2\u001b[0m b \u001b[38;5;241m=\u001b[39m \u001b[38;5;28mint\u001b[39m(\u001b[38;5;28minput\u001b[39m(\u001b[38;5;124m\"\u001b[39m\u001b[38;5;124mEnter b: \u001b[39m\u001b[38;5;124m\"\u001b[39m))\n\u001b[1;32m----> 3\u001b[0m c \u001b[38;5;241m=\u001b[39m a\u001b[38;5;241m/\u001b[39mb\n\u001b[0;32m      4\u001b[0m \u001b[38;5;28mprint\u001b[39m(c)\n",
      "\u001b[1;31mZeroDivisionError\u001b[0m: division by zero"
     ]
    }
   ],
   "source": [
    "a = int(input(\"Enter a: \"))\n",
    "b = int(input(\"Enter b: \"))\n",
    "c = a/b\n",
    "print(c)"
   ]
  },
  {
   "cell_type": "code",
   "execution_count": 5,
   "id": "7e69cf78",
   "metadata": {},
   "outputs": [
    {
     "name": "stdout",
     "output_type": "stream",
     "text": [
      "Enter a: 8\n",
      "Enter b: 2\n",
      "4.0\n"
     ]
    }
   ],
   "source": [
    "try:\n",
    "    a = int(input(\"Enter a: \"))\n",
    "    b = int(input(\"Enter b: \"))\n",
    "    c = a/b\n",
    "    print(c)\n",
    "except ValueError: \n",
    "    print(\"The value of a & b should be int! \")\n",
    "except ZeroDivisionError:\n",
    "    print(\"The value b should not be zero!\")"
   ]
  },
  {
   "cell_type": "markdown",
   "id": "0d6b3713",
   "metadata": {},
   "source": [
    "# assert"
   ]
  },
  {
   "cell_type": "code",
   "execution_count": 7,
   "id": "509711a9",
   "metadata": {},
   "outputs": [
    {
     "name": "stdout",
     "output_type": "stream",
     "text": [
      "Enter username: hellooo1\n",
      "Enter password: ajlsfk\n",
      "The username & password doesnot match\n"
     ]
    }
   ],
   "source": [
    "username = \"admin\"\n",
    "password1 = \"admin\"\n",
    "user = input(\"Enter username: \")\n",
    "pas = input(\"Enter password: \")\n",
    "try:\n",
    "    assert username == user\n",
    "    assert password == pas\n",
    "except:\n",
    "    print(\"The username & password doesnot match\")"
   ]
  },
  {
   "cell_type": "code",
   "execution_count": 8,
   "id": "fddbda21",
   "metadata": {},
   "outputs": [],
   "source": [
    "a = 10\n",
    "assert a>9"
   ]
  },
  {
   "cell_type": "code",
   "execution_count": 9,
   "id": "a588307c",
   "metadata": {},
   "outputs": [
    {
     "ename": "AssertionError",
     "evalue": "",
     "output_type": "error",
     "traceback": [
      "\u001b[1;31m---------------------------------------------------------------------------\u001b[0m",
      "\u001b[1;31mAssertionError\u001b[0m                            Traceback (most recent call last)",
      "Cell \u001b[1;32mIn[9], line 2\u001b[0m\n\u001b[0;32m      1\u001b[0m a \u001b[38;5;241m=\u001b[39m \u001b[38;5;241m10\u001b[39m\n\u001b[1;32m----> 2\u001b[0m \u001b[38;5;28;01massert\u001b[39;00m a\u001b[38;5;241m>\u001b[39m\u001b[38;5;241m11\u001b[39m\n",
      "\u001b[1;31mAssertionError\u001b[0m: "
     ]
    }
   ],
   "source": [
    "a = 10\n",
    "assert a>11"
   ]
  },
  {
   "cell_type": "code",
   "execution_count": null,
   "id": "381bceee",
   "metadata": {},
   "outputs": [],
   "source": [
    "try:\n",
    "    a = int(input(\"Enter a: \"))\n",
    "    b = int(input(\"Enter b: \"))\n",
    "    c = a/b\n",
    "except ValueError: \n",
    "    print(\"The value of a & b should be int! \")\n",
    "except ZeroDivisionError:\n",
    "    print(\"The value b should not be zero!\")\n",
    "else:\n",
    "    print(c)"
   ]
  }
 ],
 "metadata": {
  "kernelspec": {
   "display_name": "Python 3 (ipykernel)",
   "language": "python",
   "name": "python3"
  },
  "language_info": {
   "codemirror_mode": {
    "name": "ipython",
    "version": 3
   },
   "file_extension": ".py",
   "mimetype": "text/x-python",
   "name": "python",
   "nbconvert_exporter": "python",
   "pygments_lexer": "ipython3",
   "version": "3.11.5"
  }
 },
 "nbformat": 4,
 "nbformat_minor": 5
}
