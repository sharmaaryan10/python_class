{
 "cells": [
  {
   "cell_type": "code",
   "execution_count": 2,
   "id": "2d055fc5",
   "metadata": {},
   "outputs": [],
   "source": [
    "# Python collection --> list , tuple , dict, set"
   ]
  },
  {
   "cell_type": "code",
   "execution_count": 4,
   "id": "ec8e3165",
   "metadata": {},
   "outputs": [],
   "source": [
    "# List\n",
    "# -Indexing\n",
    "# -Ordered \n",
    "# -Multiple & Duplicate data\n",
    "# -Mutable"
   ]
  },
  {
   "cell_type": "code",
   "execution_count": 1,
   "id": "1b5ab7e0",
   "metadata": {},
   "outputs": [
    {
     "name": "stdout",
     "output_type": "stream",
     "text": [
      "<class 'list'>\n",
      "<class 'list'>\n",
      "apple\n"
     ]
    }
   ],
   "source": [
    "# l = list()\n",
    "l = [1,2,3,4,5]\n",
    "a = [\"apple\", \"banana\", \"cat\", \"dog\"]\n",
    "print(type(l))\n",
    "print(type(a))\n",
    "print(a[0])"
   ]
  },
  {
   "cell_type": "code",
   "execution_count": 2,
   "id": "239364d8",
   "metadata": {},
   "outputs": [
    {
     "name": "stdout",
     "output_type": "stream",
     "text": [
      "iron\n",
      "['iron', 'thor', 'arrow', 'hawk', 'hulk']\n",
      "['iron', 'arrow', 'hulk']\n"
     ]
    }
   ],
   "source": [
    "a = [\"iron\", \"thor\", \"arrow\", \"hawk\",\"hulk\",\"captian\"]\n",
    "print(a[0])\n",
    "print(a[0:5])\n",
    "print(a[0:5:2])"
   ]
  },
  {
   "cell_type": "code",
   "execution_count": 3,
   "id": "b505dc2b",
   "metadata": {},
   "outputs": [
    {
     "name": "stdout",
     "output_type": "stream",
     "text": [
      "['iron', 'thor', 'arrow', 'hawk', 'hulk', 'captian', 'iron', 'thor', 'arrow', 'hawk', 'hulk', 'captian']\n"
     ]
    }
   ],
   "source": [
    "a = [\"iron\", \"thor\", \"arrow\", \"hawk\",\"hulk\",\"captian\"]\n",
    "print(a*2)"
   ]
  },
  {
   "cell_type": "code",
   "execution_count": 4,
   "id": "0d396b56",
   "metadata": {},
   "outputs": [
    {
     "name": "stdout",
     "output_type": "stream",
     "text": [
      "iron thor arrow hawk hulk captian "
     ]
    }
   ],
   "source": [
    "a = [\"iron\", \"thor\", \"arrow\", \"hawk\",\"hulk\",\"captian\"]\n",
    "for i in a:\n",
    "    print(i,end=' ')"
   ]
  },
  {
   "cell_type": "code",
   "execution_count": 5,
   "id": "74f7f2d9",
   "metadata": {},
   "outputs": [],
   "source": [
    "# append(), insert(), extend()"
   ]
  },
  {
   "cell_type": "code",
   "execution_count": 6,
   "id": "fb4d0e3c",
   "metadata": {},
   "outputs": [
    {
     "name": "stdout",
     "output_type": "stream",
     "text": [
      "['iron', 'thor', 'arrow', 'hawk', 'hulk', 'captian', 'ant']\n"
     ]
    }
   ],
   "source": [
    "a = [\"iron\", \"thor\", \"arrow\", \"hawk\",\"hulk\",\"captian\"]\n",
    "a.append(\"ant\")\n",
    "print(a)"
   ]
  },
  {
   "cell_type": "code",
   "execution_count": 7,
   "id": "2fb46539",
   "metadata": {},
   "outputs": [
    {
     "data": {
      "text/plain": [
       "['iron', 'ant', 'thor', 'arrow', 'hawk', 'hulk', 'captian']"
      ]
     },
     "execution_count": 7,
     "metadata": {},
     "output_type": "execute_result"
    }
   ],
   "source": [
    "a = [\"iron\", \"thor\", \"arrow\", \"hawk\",\"hulk\",\"captian\"]\n",
    "a.insert(1,\"ant\")\n",
    "a"
   ]
  },
  {
   "cell_type": "code",
   "execution_count": 8,
   "id": "5af4bd65",
   "metadata": {},
   "outputs": [
    {
     "name": "stdout",
     "output_type": "stream",
     "text": [
      "['iron', 'thor', 'arrow', 'hawk', 'hulk', 'captian', 1, 2, 3]\n"
     ]
    }
   ],
   "source": [
    "a = [\"iron\", \"thor\", \"arrow\", \"hawk\",\"hulk\",\"captian\"]\n",
    "b = [1,2,3]\n",
    "a.extend(b)\n",
    "print(a)"
   ]
  },
  {
   "cell_type": "code",
   "execution_count": 9,
   "id": "1e7b2604",
   "metadata": {},
   "outputs": [
    {
     "data": {
      "text/plain": [
       "['iron', 'thor', 'arrow', 'hawk', 'hulk', 'captian']"
      ]
     },
     "execution_count": 9,
     "metadata": {},
     "output_type": "execute_result"
    }
   ],
   "source": [
    "a = [\"iron\", \"thor\", \"arrow\", \"hawk\",\"hulk\",\"captian\"]\n",
    "a"
   ]
  },
  {
   "cell_type": "code",
   "execution_count": 11,
   "id": "ba6f4461",
   "metadata": {},
   "outputs": [
    {
     "name": "stdout",
     "output_type": "stream",
     "text": [
      "Enter n: 3\n",
      "Enter x: 1\n",
      "Enter x: 3\n",
      "Enter x: 5\n",
      "[1, 3, 5]\n"
     ]
    }
   ],
   "source": [
    "l = []\n",
    "n = int(input(\"Enter n: \"))\n",
    "for i in range(n):\n",
    "    x = int(input(\"Enter x: \"))\n",
    "    l.append(x)\n",
    "\n",
    "print(l)"
   ]
  },
  {
   "cell_type": "code",
   "execution_count": 28,
   "id": "e2641f2c",
   "metadata": {},
   "outputs": [
    {
     "name": "stdout",
     "output_type": "stream",
     "text": [
      "max value:  5\n",
      "min value:  1\n",
      "sum value:  9\n",
      "[1, 3, 5]\n"
     ]
    }
   ],
   "source": [
    "print(\"max value: \", max(l))\n",
    "print(\"min value: \", min(l))\n",
    "print(\"sum value: \", sum(l))\n",
    "# print(\"max value: \", max(l))\n",
    "# l.sort()\n",
    "# print(l)\n",
    "l.reverse()\n",
    "print(l)"
   ]
  },
  {
   "cell_type": "code",
   "execution_count": 29,
   "id": "daca9b19",
   "metadata": {},
   "outputs": [
    {
     "name": "stdout",
     "output_type": "stream",
     "text": [
      "[7, 8, 3, 2]\n"
     ]
    }
   ],
   "source": [
    "a = [2,3,8,7]\n",
    "a.reverse()\n",
    "print(a)"
   ]
  },
  {
   "cell_type": "code",
   "execution_count": 30,
   "id": "3db096d1",
   "metadata": {},
   "outputs": [
    {
     "name": "stdout",
     "output_type": "stream",
     "text": [
      "['Apple', 'ball', 'cat', 'dog', 'ant']\n"
     ]
    }
   ],
   "source": [
    "# update\n",
    "a = [\"apple\", \"ball\", \"cat\", \"dog\", \"ant\"]\n",
    "a[0] = 'Apple'\n",
    "print(a)"
   ]
  },
  {
   "cell_type": "code",
   "execution_count": 31,
   "id": "a737cdea",
   "metadata": {},
   "outputs": [
    {
     "name": "stdout",
     "output_type": "stream",
     "text": [
      "['banana', 'kiwi', 'cat', 'dog', 'ant']\n"
     ]
    }
   ],
   "source": [
    "# update\n",
    "a = [\"apple\", \"ball\", \"cat\", \"dog\", \"ant\"]\n",
    "a[0:2] = ['banana','kiwi']\n",
    "print(a)"
   ]
  },
  {
   "cell_type": "code",
   "execution_count": 33,
   "id": "dc32c7ce",
   "metadata": {},
   "outputs": [
    {
     "name": "stdout",
     "output_type": "stream",
     "text": [
      "['banana', 'kiwi', 'zebra', 'cat', 'dog', 'ant']\n"
     ]
    }
   ],
   "source": [
    "# update & add\n",
    "a = [\"apple\", \"ball\", \"cat\", \"dog\", \"ant\"]\n",
    "a[0:2] = ['banana','kiwi','zebra']\n",
    "print(a)"
   ]
  },
  {
   "cell_type": "code",
   "execution_count": 34,
   "id": "59ea8dbc",
   "metadata": {},
   "outputs": [],
   "source": [
    "# delete\n",
    "# del, remove(), pop()"
   ]
  },
  {
   "cell_type": "code",
   "execution_count": 35,
   "id": "9ec38f66",
   "metadata": {},
   "outputs": [
    {
     "name": "stdout",
     "output_type": "stream",
     "text": [
      "['ball', 'cat', 'dog', 'ant']\n"
     ]
    }
   ],
   "source": [
    "# del --> using index \n",
    "a = [\"apple\", \"ball\", \"cat\", \"dog\", \"ant\"]\n",
    "del a[0]\n",
    "print(a)"
   ]
  },
  {
   "cell_type": "code",
   "execution_count": 36,
   "id": "d419ad15",
   "metadata": {},
   "outputs": [
    {
     "name": "stdout",
     "output_type": "stream",
     "text": [
      "['cat', 'dog', 'ant']\n"
     ]
    }
   ],
   "source": [
    "a = [\"apple\", \"ball\", \"cat\", \"dog\", \"ant\"]\n",
    "del a[0:2]\n",
    "print(a)"
   ]
  },
  {
   "cell_type": "code",
   "execution_count": 37,
   "id": "52b75dfa",
   "metadata": {},
   "outputs": [
    {
     "name": "stdout",
     "output_type": "stream",
     "text": [
      "['apple', 'cat', 'dog', 'ant']\n"
     ]
    }
   ],
   "source": [
    "# remove  --> by value\n",
    "a = [\"apple\", \"ball\", \"cat\", \"dog\", \"ant\"]\n",
    "a.remove(\"ball\")\n",
    "print(a)"
   ]
  },
  {
   "cell_type": "code",
   "execution_count": 42,
   "id": "807e418a",
   "metadata": {},
   "outputs": [
    {
     "name": "stdout",
     "output_type": "stream",
     "text": [
      "['apple', 'ball', 'cat', 'dog']\n",
      "ant\n",
      "['ball', 'cat', 'dog', 'ant']\n",
      "apple\n"
     ]
    }
   ],
   "source": [
    "# pop \n",
    "a = [\"apple\", \"ball\", \"cat\", \"dog\", \"ant\"]\n",
    "l = a.pop()\n",
    "print(a)\n",
    "print(l)\n",
    "\n",
    "a = [\"apple\", \"ball\", \"cat\", \"dog\", \"ant\"]\n",
    "l = a.pop(0)\n",
    "print(a)\n",
    "print(l)"
   ]
  },
  {
   "cell_type": "code",
   "execution_count": 41,
   "id": "69ddbfbf",
   "metadata": {},
   "outputs": [
    {
     "name": "stdout",
     "output_type": "stream",
     "text": [
      "[]\n"
     ]
    }
   ],
   "source": [
    "# clear() --> to delete the entire itmes of the list\n",
    "a = [\"apple\", \"ball\", \"cat\", \"dog\", \"ant\"]\n",
    "a.clear()\n",
    "print(a)"
   ]
  },
  {
   "cell_type": "code",
   "execution_count": 1,
   "id": "bbdf6cc6",
   "metadata": {},
   "outputs": [],
   "source": [
    "# ----> to delete the entire item & variable as well of the list\n",
    "\n",
    "# a = [\"apple\", \"ball\", \"cat\", \"dog\", \"ant\"]\n",
    "# del a\n",
    "# print(a) --> gives error"
   ]
  },
  {
   "cell_type": "code",
   "execution_count": 2,
   "id": "15ec59e8",
   "metadata": {},
   "outputs": [
    {
     "name": "stdout",
     "output_type": "stream",
     "text": [
      "[[1, 2, 3], [4, 5, 6], [7, 8, 9]]\n",
      "<class 'list'>\n"
     ]
    }
   ],
   "source": [
    "a = [[1,2,3],[4,5,6],[7,8,9]]\n",
    "print(a)\n",
    "print(type(a))"
   ]
  },
  {
   "cell_type": "code",
   "execution_count": 3,
   "id": "759ed44f",
   "metadata": {},
   "outputs": [
    {
     "name": "stdout",
     "output_type": "stream",
     "text": [
      "[['Ram', 34, 'Kathmandu'], ['Shyam', 45, 'Bhaktapur'], ['Hari', 56, 'Lalitpur']]\n"
     ]
    }
   ],
   "source": [
    "a = [[\"Ram\",34,\"Kathmandu\"],[\"Shyam\",45,\"Bhaktapur\"],[\"Hari\",56,\"Lalitpur\"]]\n",
    "print(a)"
   ]
  },
  {
   "cell_type": "code",
   "execution_count": 5,
   "id": "0fd3e36c",
   "metadata": {},
   "outputs": [
    {
     "name": "stdout",
     "output_type": "stream",
     "text": [
      "Enter n: 2\n",
      "Enter name: Ram\n",
      "Enter age:24\n",
      "Enter address: ktm\n",
      "Enter name: hari\n",
      "Enter age:30\n",
      "Enter address: bkt\n",
      "[['Ram', 24, 'ktm'], ['hari', 30, 'bkt']]\n"
     ]
    }
   ],
   "source": [
    "n = int(input(\"Enter n: \"))\n",
    "l = []\n",
    "for i in range(n):\n",
    "    name = input(\"Enter name: \")\n",
    "    age = int(input(\"Enter age:\"))\n",
    "    add = input(\"Enter address: \")\n",
    "    l.append([name,age,add])\n",
    "\n",
    "print(l)"
   ]
  },
  {
   "cell_type": "code",
   "execution_count": 6,
   "id": "052f3ffd",
   "metadata": {},
   "outputs": [
    {
     "name": "stdout",
     "output_type": "stream",
     "text": [
      "['Ram', 24, 'ktm']\n",
      "24\n"
     ]
    }
   ],
   "source": [
    "a = [['Ram', 24, 'ktm'], ['hari', 30, 'bkt']]\n",
    "print(a[0])\n",
    "print(a[0][1])"
   ]
  },
  {
   "cell_type": "code",
   "execution_count": 7,
   "id": "17cf1b82",
   "metadata": {},
   "outputs": [
    {
     "data": {
      "text/plain": [
       "[['Ram', 24, 'ktm'], ['hari', 30, 'bkt'], ['shyam', 25, 'laltipur']]"
      ]
     },
     "execution_count": 7,
     "metadata": {},
     "output_type": "execute_result"
    }
   ],
   "source": [
    "a = [['Ram', 24, 'ktm'], ['hari', 30, 'bkt']]\n",
    "a.append(['shyam',25,'laltipur'])\n",
    "a"
   ]
  },
  {
   "cell_type": "code",
   "execution_count": 11,
   "id": "1230ae74",
   "metadata": {},
   "outputs": [
    {
     "name": "stdout",
     "output_type": "stream",
     "text": [
      "Enter name: 24\n"
     ]
    }
   ],
   "source": [
    "#search\n",
    "a = [['Ram', 24, 'ktm'],['shyam', 25, 'laltipur'], ['hari', 30, 'bkt']]\n",
    "name = input(\"Enter name: \")\n",
    "for i in a:\n",
    "    if name in i:\n",
    "        print(i)"
   ]
  },
  {
   "cell_type": "code",
   "execution_count": 13,
   "id": "f84695a2",
   "metadata": {},
   "outputs": [
    {
     "name": "stdout",
     "output_type": "stream",
     "text": [
      "Enter add: jhapa\n",
      "[['Ram', 24, 'jhapa'], ['shyam', 25, 'laltipur'], ['hari', 30, 'bkt']]\n"
     ]
    }
   ],
   "source": [
    "a = [['Ram', 24, 'ktm'],['shyam', 25, 'laltipur'], ['hari', 30, 'bkt']]\n",
    "# add = input(\"Enter add \")\n",
    "# a[0][2] = add\n",
    "a[0][2] = input(\"Enter add: \")\n",
    "print(a)"
   ]
  },
  {
   "cell_type": "code",
   "execution_count": 1,
   "id": "bf5783e1",
   "metadata": {},
   "outputs": [
    {
     "name": "stdout",
     "output_type": "stream",
     "text": [
      "Enter name: ram\n",
      "['Ram', 24, 'ktm']\n"
     ]
    }
   ],
   "source": [
    "a = [['Ram', 24, 'ktm'],['shyam', 25, 'laltipur'], ['hari', 30, 'bkt']]\n",
    "name = input(\"Enter name: \")\n",
    "# a = 0\n",
    "for i in a:\n",
    "    if name.lower() == i[0].lower():\n",
    "        print(i)\n",
    "#     a += 1"
   ]
  },
  {
   "cell_type": "code",
   "execution_count": null,
   "id": "f4ea39c5",
   "metadata": {},
   "outputs": [],
   "source": []
  },
  {
   "cell_type": "code",
   "execution_count": null,
   "id": "035d6061",
   "metadata": {},
   "outputs": [],
   "source": []
  }
 ],
 "metadata": {
  "kernelspec": {
   "display_name": "Python 3 (ipykernel)",
   "language": "python",
   "name": "python3"
  },
  "language_info": {
   "codemirror_mode": {
    "name": "ipython",
    "version": 3
   },
   "file_extension": ".py",
   "mimetype": "text/x-python",
   "name": "python",
   "nbconvert_exporter": "python",
   "pygments_lexer": "ipython3",
   "version": "3.11.5"
  }
 },
 "nbformat": 4,
 "nbformat_minor": 5
}
