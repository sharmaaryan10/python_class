{
 "cells": [
  {
   "cell_type": "code",
   "execution_count": 1,
   "id": "424be871",
   "metadata": {},
   "outputs": [],
   "source": [
    "# class <class_name1>:\n",
    "#     <operations>\n",
    "\n",
    "# class <class_name2>(class_name1):\n",
    "#     <operations>\n",
    "\n",
    "# obj = <class_name2>()"
   ]
  },
  {
   "cell_type": "code",
   "execution_count": 2,
   "id": "6835f2ea",
   "metadata": {},
   "outputs": [],
   "source": [
    "class A:\n",
    "    pass\n",
    "\n",
    "class B:\n",
    "    pass\n",
    "\n",
    "obj = B()"
   ]
  },
  {
   "cell_type": "code",
   "execution_count": 5,
   "id": "9cacb49c",
   "metadata": {},
   "outputs": [
    {
     "name": "stdout",
     "output_type": "stream",
     "text": [
      "Hello World I am Ram.I am from 34.I am from Kathmandu\n"
     ]
    }
   ],
   "source": [
    "class Data:\n",
    "    def __init__(self):\n",
    "        self.name = \"Ram\"\n",
    "        self.age = 34\n",
    "        self.add = \"Kathmandu\"\n",
    "\n",
    "class Info(Data):\n",
    "    def info(self):\n",
    "        print(f\"Hello World I am {self.name}.I am from {self.age}.I am from {self.add}\")\n",
    "\n",
    "obj = Info()\n",
    "obj.info()"
   ]
  },
  {
   "cell_type": "code",
   "execution_count": 6,
   "id": "a37d80c9",
   "metadata": {},
   "outputs": [
    {
     "name": "stdout",
     "output_type": "stream",
     "text": [
      "Hello World I am Ram.I am from 67.I am from Kathmandu\n"
     ]
    }
   ],
   "source": [
    "class Data:\n",
    "    def __init__(self,name,age,add):\n",
    "        self.name = name\n",
    "        self.age = age\n",
    "        self.add = add\n",
    "\n",
    "class Info(Data):\n",
    "    def info(self):\n",
    "        print(f\"Hello World I am {self.name}.I am from {self.age}.I am from {self.add}\")\n",
    "\n",
    "obj = Info(\"Ram\",67,\"Kathmandu\")\n",
    "obj.info()"
   ]
  },
  {
   "cell_type": "code",
   "execution_count": 7,
   "id": "1179369c",
   "metadata": {},
   "outputs": [
    {
     "name": "stdout",
     "output_type": "stream",
     "text": [
      "Hello World I am Ram.I am from 67.I am from Kathmandu\n"
     ]
    }
   ],
   "source": [
    "class Data:\n",
    "    def __init__(self,age):\n",
    "        self.age = age\n",
    "\n",
    "class Info(Data):\n",
    "    def __init__(self,name,age,add):\n",
    "        self.name = name\n",
    "        self.add = add\n",
    "        Data.__init__(self,age)\n",
    "        \n",
    "    def info(self):\n",
    "        print(f\"Hello World I am {self.name}.I am from {self.age}.I am from {self.add}\")\n",
    "\n",
    "obj = Info(\"Ram\",67,\"Kathmandu\")\n",
    "obj.info()"
   ]
  },
  {
   "cell_type": "markdown",
   "id": "450d9228",
   "metadata": {},
   "source": [
    "# types of inheritance"
   ]
  },
  {
   "cell_type": "markdown",
   "id": "7e9c6225",
   "metadata": {},
   "source": [
    "# multilevel & multiple inheritance"
   ]
  },
  {
   "cell_type": "code",
   "execution_count": 10,
   "id": "b623f253",
   "metadata": {},
   "outputs": [],
   "source": [
    "# multilevel inheritance\n",
    "\n",
    "class A:\n",
    "    pass\n",
    "class B(A):\n",
    "    pass\n",
    "class C(B):\n",
    "    pass\n",
    "\n",
    "obj = C()"
   ]
  },
  {
   "cell_type": "code",
   "execution_count": 13,
   "id": "d8349e0d",
   "metadata": {},
   "outputs": [
    {
     "name": "stdout",
     "output_type": "stream",
     "text": [
      "Hello World I am Ram.I am from 67.I am from Kathmandu\n"
     ]
    }
   ],
   "source": [
    "# multilevel inheritance\n",
    "\n",
    "class Address:\n",
    "    def __init__(self,add):\n",
    "        self.add = add\n",
    "        \n",
    "class Data(Address):\n",
    "    def __init__(self,age,add):\n",
    "        self.age = age\n",
    "        Address.__init__(self,add)\n",
    "\n",
    "class Info(Data):\n",
    "    def __init__(self,name,age,add):\n",
    "        self.name = name\n",
    "        Data.__init__(self,age,add)\n",
    "        \n",
    "    def info(self):\n",
    "        print(f\"Hello World I am {self.name}.I am from {self.age}.I am from {self.add}\")\n",
    "\n",
    "obj = Info(\"Ram\",67,\"Kathmandu\")\n",
    "obj.info()"
   ]
  },
  {
   "cell_type": "code",
   "execution_count": 15,
   "id": "cdb66a6a",
   "metadata": {},
   "outputs": [
    {
     "name": "stdout",
     "output_type": "stream",
     "text": [
      "Hello World I am Ram.I am from 67.I am from Kathmandu\n"
     ]
    }
   ],
   "source": [
    "# multiple inheritance\n",
    "\n",
    "class Address:\n",
    "    def __init__(self,add):\n",
    "        self.add = add\n",
    "        \n",
    "class Data(Address):\n",
    "    def __init__(self,age):\n",
    "        self.age = age\n",
    "\n",
    "class Info(Data,Address):\n",
    "    def __init__(self,name,age,add):\n",
    "        self.name = name\n",
    "        Data.__init__(self,age)\n",
    "        Address.__init__(self,add)\n",
    "        \n",
    "    def info(self):\n",
    "        print(f\"Hello World I am {self.name}.I am from {self.age}.I am from {self.add}\")\n",
    "\n",
    "obj = Info(\"Ram\",67,\"Kathmandu\")\n",
    "obj.info()"
   ]
  },
  {
   "cell_type": "code",
   "execution_count": null,
   "id": "ab2c2343",
   "metadata": {},
   "outputs": [],
   "source": [
    "# public , proctected & private\n",
    "\n",
    "# public    - can be accessed outside of the class\n",
    "# protected - can be accessed in the derived class as well\n",
    "# private   - can't be accessd outside the class itself"
   ]
  },
  {
   "cell_type": "code",
   "execution_count": 19,
   "id": "62cee16b",
   "metadata": {},
   "outputs": [
    {
     "name": "stdout",
     "output_type": "stream",
     "text": [
      "Hello World I am Ram.I am from 67\n",
      "Ram\n",
      "67\n",
      "Kathmandu\n"
     ]
    }
   ],
   "source": [
    "class Data:\n",
    "    def __init__(self,name,age,add):\n",
    "        self.name = name    # public members\n",
    "        self._age = age     # protected members\n",
    "        self.__add = add    # private members\n",
    "    def data(self):\n",
    "        print(self.name,self._age,self.__age)\n",
    "\n",
    "class Info(Data):\n",
    "    def info(self):\n",
    "        print(f\"Hello World I am {self.name}.I am from {self._age}\")\n",
    "\n",
    "obj = Info(\"Ram\",67,\"Kathmandu\")\n",
    "obj.info()\n",
    "print(obj.name)\n",
    "\n",
    "print(obj._age)  \n",
    "# -> here protected data is accessed outside the class , is used for debugging purpose, against of OOP rule\n",
    "\n",
    "# print(obj.__age) # --> gives error\n",
    "print(obj._Data__add) \n",
    "# --> here private datais accessed outside, it is called as nambling or something see it..."
   ]
  },
  {
   "cell_type": "code",
   "execution_count": null,
   "id": "4a6bc032",
   "metadata": {},
   "outputs": [],
   "source": []
  },
  {
   "cell_type": "code",
   "execution_count": null,
   "id": "fdadc2b1",
   "metadata": {},
   "outputs": [],
   "source": []
  }
 ],
 "metadata": {
  "kernelspec": {
   "display_name": "Python 3 (ipykernel)",
   "language": "python",
   "name": "python3"
  },
  "language_info": {
   "codemirror_mode": {
    "name": "ipython",
    "version": 3
   },
   "file_extension": ".py",
   "mimetype": "text/x-python",
   "name": "python",
   "nbconvert_exporter": "python",
   "pygments_lexer": "ipython3",
   "version": "3.11.5"
  }
 },
 "nbformat": 4,
 "nbformat_minor": 5
}
