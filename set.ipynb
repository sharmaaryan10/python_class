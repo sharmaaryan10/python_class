{
 "cells": [
  {
   "cell_type": "code",
   "execution_count": 1,
   "id": "926f7423",
   "metadata": {},
   "outputs": [],
   "source": [
    "# Set \n",
    "# - no indexing\n",
    "# - undordered\n",
    "# - multiple but no duplicate date\n",
    "# - mutable"
   ]
  },
  {
   "cell_type": "code",
   "execution_count": 4,
   "id": "3c6526b6",
   "metadata": {},
   "outputs": [
    {
     "name": "stdout",
     "output_type": "stream",
     "text": [
      "{'Ball', 'Cat', 'Fish', 'Apple', 'Dog'}\n"
     ]
    }
   ],
   "source": [
    "s = {'Apple','Ball','Cat','Dog','Fish'}\n",
    "print(s)"
   ]
  },
  {
   "cell_type": "code",
   "execution_count": 5,
   "id": "33ab5a56",
   "metadata": {},
   "outputs": [
    {
     "ename": "TypeError",
     "evalue": "'set' object is not subscriptable",
     "output_type": "error",
     "traceback": [
      "\u001b[1;31m---------------------------------------------------------------------------\u001b[0m",
      "\u001b[1;31mTypeError\u001b[0m                                 Traceback (most recent call last)",
      "Cell \u001b[1;32mIn[5], line 3\u001b[0m\n\u001b[0;32m      1\u001b[0m \u001b[38;5;66;03m# no indexing\u001b[39;00m\n\u001b[0;32m      2\u001b[0m s \u001b[38;5;241m=\u001b[39m {\u001b[38;5;124m'\u001b[39m\u001b[38;5;124mApple\u001b[39m\u001b[38;5;124m'\u001b[39m,\u001b[38;5;124m'\u001b[39m\u001b[38;5;124mBall\u001b[39m\u001b[38;5;124m'\u001b[39m,\u001b[38;5;124m'\u001b[39m\u001b[38;5;124mCat\u001b[39m\u001b[38;5;124m'\u001b[39m,\u001b[38;5;124m'\u001b[39m\u001b[38;5;124mDog\u001b[39m\u001b[38;5;124m'\u001b[39m,\u001b[38;5;124m'\u001b[39m\u001b[38;5;124mFish\u001b[39m\u001b[38;5;124m'\u001b[39m}\n\u001b[1;32m----> 3\u001b[0m \u001b[38;5;28mprint\u001b[39m(s[\u001b[38;5;241m0\u001b[39m])\n",
      "\u001b[1;31mTypeError\u001b[0m: 'set' object is not subscriptable"
     ]
    }
   ],
   "source": [
    "# no indexing\n",
    "s = {'Apple','Ball','Cat','Dog','Fish'}\n",
    "print(s[0])"
   ]
  },
  {
   "cell_type": "code",
   "execution_count": 6,
   "id": "0ddd1d69",
   "metadata": {},
   "outputs": [
    {
     "name": "stdout",
     "output_type": "stream",
     "text": [
      "{'Ball', 'Cat', 'Fish', 'Apple', 'Dog'}\n"
     ]
    }
   ],
   "source": [
    "s = {'Apple','Ball','Cat','Dog','Fish','Apple'}\n",
    "print(s)"
   ]
  },
  {
   "cell_type": "markdown",
   "id": "bdb346d6",
   "metadata": {},
   "source": [
    "# no concatenation"
   ]
  },
  {
   "cell_type": "code",
   "execution_count": 8,
   "id": "b2755207",
   "metadata": {},
   "outputs": [
    {
     "ename": "TypeError",
     "evalue": "unsupported operand type(s) for +: 'set' and 'set'",
     "output_type": "error",
     "traceback": [
      "\u001b[1;31m---------------------------------------------------------------------------\u001b[0m",
      "\u001b[1;31mTypeError\u001b[0m                                 Traceback (most recent call last)",
      "Cell \u001b[1;32mIn[8], line 3\u001b[0m\n\u001b[0;32m      1\u001b[0m a \u001b[38;5;241m=\u001b[39m {\u001b[38;5;241m1\u001b[39m,\u001b[38;5;241m2\u001b[39m,\u001b[38;5;241m3\u001b[39m,\u001b[38;5;241m4\u001b[39m}\n\u001b[0;32m      2\u001b[0m b \u001b[38;5;241m=\u001b[39m {\u001b[38;5;241m5\u001b[39m,\u001b[38;5;241m6\u001b[39m,\u001b[38;5;241m7\u001b[39m,\u001b[38;5;241m8\u001b[39m}\n\u001b[1;32m----> 3\u001b[0m c \u001b[38;5;241m=\u001b[39m a\u001b[38;5;241m+\u001b[39mb\n\u001b[0;32m      4\u001b[0m \u001b[38;5;28mprint\u001b[39m(c)\n",
      "\u001b[1;31mTypeError\u001b[0m: unsupported operand type(s) for +: 'set' and 'set'"
     ]
    }
   ],
   "source": [
    "a = {1,2,3,4}\n",
    "b = {5,6,7,8}\n",
    "c = a+b\n",
    "print(c)\n",
    "\n",
    "# no concatenation but can use update() function "
   ]
  },
  {
   "cell_type": "code",
   "execution_count": 9,
   "id": "e3f9ce00",
   "metadata": {},
   "outputs": [
    {
     "ename": "TypeError",
     "evalue": "unsupported operand type(s) for *: 'set' and 'int'",
     "output_type": "error",
     "traceback": [
      "\u001b[1;31m---------------------------------------------------------------------------\u001b[0m",
      "\u001b[1;31mTypeError\u001b[0m                                 Traceback (most recent call last)",
      "Cell \u001b[1;32mIn[9], line 2\u001b[0m\n\u001b[0;32m      1\u001b[0m a \u001b[38;5;241m=\u001b[39m {\u001b[38;5;241m1\u001b[39m,\u001b[38;5;241m2\u001b[39m,\u001b[38;5;241m3\u001b[39m,\u001b[38;5;241m4\u001b[39m}\n\u001b[1;32m----> 2\u001b[0m \u001b[38;5;28mprint\u001b[39m(a\u001b[38;5;241m*\u001b[39m\u001b[38;5;241m2\u001b[39m)\n",
      "\u001b[1;31mTypeError\u001b[0m: unsupported operand type(s) for *: 'set' and 'int'"
     ]
    }
   ],
   "source": [
    "a = {1,2,3,4}\n",
    "print(a*2)"
   ]
  },
  {
   "cell_type": "code",
   "execution_count": 12,
   "id": "f73c8c68",
   "metadata": {},
   "outputs": [
    {
     "name": "stdout",
     "output_type": "stream",
     "text": [
      "<class 'dict'>\n",
      "<class 'set'>\n",
      "<class 'set'>\n"
     ]
    }
   ],
   "source": [
    "s = {}\n",
    "print(type(s))\n",
    "\n",
    "a = {1}\n",
    "print(type(a))\n",
    "\n",
    "b = set()\n",
    "print(type(b))"
   ]
  },
  {
   "cell_type": "code",
   "execution_count": 2,
   "id": "75ead19a",
   "metadata": {},
   "outputs": [
    {
     "name": "stdout",
     "output_type": "stream",
     "text": [
      "{'Ball', 'Apple'}\n"
     ]
    }
   ],
   "source": [
    "# add()\n",
    "\n",
    "s = set()\n",
    "s.add(\"Apple\")\n",
    "s.add(\"Ball\")\n",
    "print(s)"
   ]
  },
  {
   "cell_type": "code",
   "execution_count": 4,
   "id": "c33367d1",
   "metadata": {},
   "outputs": [
    {
     "name": "stdout",
     "output_type": "stream",
     "text": [
      "{1, 2, 3, 4, 5, 6, 7, 8, 9}\n"
     ]
    }
   ],
   "source": [
    "# update()\n",
    "\n",
    "a = {1,2,3,4}\n",
    "b = {5,6,7,8,9}\n",
    "a.update(b)\n",
    "print(a)"
   ]
  },
  {
   "cell_type": "code",
   "execution_count": 5,
   "id": "7af43d11",
   "metadata": {},
   "outputs": [
    {
     "data": {
      "text/plain": [
       "{'Ball'}"
      ]
     },
     "execution_count": 5,
     "metadata": {},
     "output_type": "execute_result"
    }
   ],
   "source": [
    "# remove()\n",
    "\n",
    "a = {'Ball','Apple'}\n",
    "a.remove(\"Apple\")\n",
    "a"
   ]
  },
  {
   "cell_type": "code",
   "execution_count": 6,
   "id": "247c0a0c",
   "metadata": {},
   "outputs": [
    {
     "name": "stdout",
     "output_type": "stream",
     "text": [
      "[1, 2, 3, 5, 6, 7, 8.6]\n"
     ]
    }
   ],
   "source": [
    "# if to remove duplicate value from list ,convert it to set & again to list(as set doesnot support duplicate values)\n",
    "\n",
    "a = [1,2,3,5,2,3,5,6,7,8.6]\n",
    "a = list(set(a))\n",
    "print(a)\n",
    "\n",
    "# output is not sorted (as seen), but string doesnot hold true so it's not sorting"
   ]
  },
  {
   "cell_type": "code",
   "execution_count": 8,
   "id": "178d84e6",
   "metadata": {},
   "outputs": [
    {
     "name": "stdout",
     "output_type": "stream",
     "text": [
      "{(1, 2, 3), (4, 5, 6)}\n"
     ]
    }
   ],
   "source": [
    "# No mutable data inside set\n",
    "# i.e. no list, dict,set,dictionary can be present inside set \n",
    "\n",
    "# as tuple is mutable so it can be present inside\n",
    "# immuatble or static data can be present inside set\n",
    "\n",
    "a = {(1,2,3),(4,5,6)}\n",
    "print(a)"
   ]
  },
  {
   "cell_type": "markdown",
   "id": "bd209d75",
   "metadata": {},
   "source": [
    "# operations in set (union, inter, diffr, only,...)"
   ]
  },
  {
   "cell_type": "code",
   "execution_count": 21,
   "id": "f20437d1",
   "metadata": {},
   "outputs": [
    {
     "name": "stdout",
     "output_type": "stream",
     "text": [
      "{'John', 'Ram', 'Mike'}\n",
      "\n",
      "\n",
      "{'Altman', 'John', 'Rakesh', 'Bill', 'Satya', 'Jobs', 'Ram', 'Mike', 'Ramesh'}\n",
      "\n",
      "\n",
      "{'Ramesh', 'Rakesh', 'Jobs'}\n",
      "{'Ramesh', 'Rakesh', 'Jobs'}\n",
      "\n",
      "\n",
      "{'Altman', 'Bill', 'Satya'}\n",
      "{'Altman', 'Bill', 'Satya'}\n",
      "\n",
      "\n",
      "{'Hari', 'Shyam'}\n"
     ]
    }
   ],
   "source": [
    "U = {'Altman', 'John', 'Rakesh', 'Bill', 'Satya', 'Jobs', 'Ram', 'Mike', 'Ramesh','Hari','Shyam'}\n",
    "\n",
    "apple = {'Ram','Jobs', 'Mike', 'John', 'Rakesh', 'Ramesh'}\n",
    "ms = {'Bill','Satya', 'Ram', 'John', 'Mike', 'Altman'}\n",
    "\n",
    "# intersection \n",
    "i = apple.intersection(ms)\n",
    "print(i)\n",
    "print(\"\\n\")\n",
    "\n",
    "\n",
    "# union\n",
    "un = apple.union(ms)\n",
    "print(un)\n",
    "print(\"\\n\")\n",
    "\n",
    "\n",
    "# only apple\n",
    "print(apple-ms)\n",
    "print(apple.difference(ms))\n",
    "print(\"\\n\")\n",
    "\n",
    "# print(only(apple))\n",
    "print(ms-apple)\n",
    "print(ms.difference(apple))\n",
    "print(\"\\n\")\n",
    "\n",
    "\n",
    "#unemployed\n",
    "print(U-un)"
   ]
  },
  {
   "cell_type": "code",
   "execution_count": null,
   "id": "96e87458",
   "metadata": {},
   "outputs": [],
   "source": []
  }
 ],
 "metadata": {
  "kernelspec": {
   "display_name": "Python 3 (ipykernel)",
   "language": "python",
   "name": "python3"
  },
  "language_info": {
   "codemirror_mode": {
    "name": "ipython",
    "version": 3
   },
   "file_extension": ".py",
   "mimetype": "text/x-python",
   "name": "python",
   "nbconvert_exporter": "python",
   "pygments_lexer": "ipython3",
   "version": "3.11.5"
  }
 },
 "nbformat": 4,
 "nbformat_minor": 5
}
