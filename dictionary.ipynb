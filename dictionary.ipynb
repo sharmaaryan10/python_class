{
 "cells": [
  {
   "cell_type": "code",
   "execution_count": 1,
   "id": "a519e3ad",
   "metadata": {},
   "outputs": [],
   "source": [
    "# Dictionary\n",
    "# indexed \n",
    "# multiple & duplicate value\n",
    "# ordered \n",
    "# mutable\n",
    "\n",
    "\n",
    "# no concatenation in curly bracket \n",
    "# no multiple key , it will update"
   ]
  },
  {
   "cell_type": "code",
   "execution_count": 2,
   "id": "997762d5",
   "metadata": {},
   "outputs": [
    {
     "name": "stdout",
     "output_type": "stream",
     "text": [
      "<class 'dict'>\n"
     ]
    }
   ],
   "source": [
    "# a = dict()\n",
    "a = {'a':\"apple\",\"b\":\"ball\",\"c\":\"cat\"}\n",
    "print(type(a))"
   ]
  },
  {
   "cell_type": "code",
   "execution_count": 3,
   "id": "86cb804f",
   "metadata": {},
   "outputs": [
    {
     "name": "stdout",
     "output_type": "stream",
     "text": [
      "3\n",
      "cat\n",
      "{'a': 'apple', 'b': 'ball', 'c': 'cat'}\n"
     ]
    }
   ],
   "source": [
    "a = {'a':\"apple\",\"b\":\"ball\",\"c\":\"cat\"}\n",
    "print(len(a))\n",
    "print(a['c'])\n",
    "print(a)"
   ]
  },
  {
   "cell_type": "code",
   "execution_count": 4,
   "id": "8d763c15",
   "metadata": {},
   "outputs": [
    {
     "name": "stdout",
     "output_type": "stream",
     "text": [
      "{'a': 'apple', 'b': 'ball', 'c': 'cat'}\n"
     ]
    }
   ],
   "source": [
    "a = {}\n",
    "a['a'] = \"apple\"\n",
    "a['b'] = \"ball\"\n",
    "a['c'] = \"cat\"\n",
    "print(a)"
   ]
  },
  {
   "cell_type": "code",
   "execution_count": 1,
   "id": "33d022b4",
   "metadata": {},
   "outputs": [
    {
     "name": "stdout",
     "output_type": "stream",
     "text": [
      "Enter n: 2\n",
      "Enter name: ram\n",
      "Enter phone no: 123\n",
      "Enter name: shyam\n",
      "Enter phone no: 456\n",
      "{'ram': 123, 'shyam': 456}\n"
     ]
    }
   ],
   "source": [
    "n = int(input(\"Enter n: \"))\n",
    "info = {}\n",
    "for i in range(n):\n",
    "    name = input(\"Enter name: \")\n",
    "    phone = int(input(\"Enter phone no: \"))\n",
    "    info[name] = phone\n",
    "\n",
    "print(info)"
   ]
  },
  {
   "cell_type": "code",
   "execution_count": 2,
   "id": "4d28e516",
   "metadata": {},
   "outputs": [
    {
     "name": "stdout",
     "output_type": "stream",
     "text": [
      "ram\n",
      "shyam\n"
     ]
    }
   ],
   "source": [
    "# printing only the key\n",
    "\n",
    "a = {'ram': 123, 'shyam': 456}\n",
    "for i in a:\n",
    "    print(i)"
   ]
  },
  {
   "cell_type": "code",
   "execution_count": 4,
   "id": "e4b14676",
   "metadata": {},
   "outputs": [
    {
     "name": "stdout",
     "output_type": "stream",
     "text": [
      "123\n",
      "456\n"
     ]
    }
   ],
   "source": [
    "# printing only the value\n",
    "\n",
    "a = {'ram': 123, 'shyam': 456}\n",
    "for i in a.values():\n",
    "    print(i)"
   ]
  },
  {
   "cell_type": "code",
   "execution_count": 5,
   "id": "c69d6852",
   "metadata": {},
   "outputs": [
    {
     "name": "stdout",
     "output_type": "stream",
     "text": [
      "('ram', 123)\n",
      "('shyam', 456)\n"
     ]
    }
   ],
   "source": [
    "# printing the key & value\n",
    "\n",
    "a = {'ram': 123, 'shyam': 456}\n",
    "for i in a.items():\n",
    "    print(i)"
   ]
  },
  {
   "cell_type": "code",
   "execution_count": 7,
   "id": "f62e6f31",
   "metadata": {},
   "outputs": [
    {
     "name": "stdout",
     "output_type": "stream",
     "text": [
      "(('ram', 123), ('shyam', 456))\n",
      "{'ram': 123, 'shyam': 456}\n"
     ]
    }
   ],
   "source": [
    "# converting tuple inside tuple to dictionary\n",
    "\n",
    "d = (('ram', 123), ('shyam', 456))\n",
    "# dict(d)\n",
    "a = dict(d)\n",
    "print(d)\n",
    "print(a)"
   ]
  },
  {
   "cell_type": "code",
   "execution_count": 8,
   "id": "c9762425",
   "metadata": {},
   "outputs": [
    {
     "data": {
      "text/plain": [
       "{'ram': 123, 'shyam': 456}"
      ]
     },
     "execution_count": 8,
     "metadata": {},
     "output_type": "execute_result"
    }
   ],
   "source": [
    "# converting list inside list to dictionary\n",
    "\n",
    "d = [['ram', 123], ['shyam', 456]]\n",
    "dict(d)"
   ]
  },
  {
   "cell_type": "code",
   "execution_count": 9,
   "id": "eed6bf73",
   "metadata": {},
   "outputs": [
    {
     "name": "stdout",
     "output_type": "stream",
     "text": [
      "123\n",
      "{'ram': 789, 'shyam': 456}\n"
     ]
    }
   ],
   "source": [
    "# updating the value of dictionary\n",
    "\n",
    "a = {'ram': 123, 'shyam': 456}\n",
    "print(a['ram'])\n",
    "a['ram'] = 789 \n",
    "print(a)"
   ]
  },
  {
   "cell_type": "code",
   "execution_count": 10,
   "id": "9b28fc8c",
   "metadata": {},
   "outputs": [],
   "source": [
    "# deleting the value\n",
    "# pop()\n",
    "# del"
   ]
  },
  {
   "cell_type": "code",
   "execution_count": 11,
   "id": "077a2c19",
   "metadata": {},
   "outputs": [
    {
     "name": "stdout",
     "output_type": "stream",
     "text": [
      "{'shyam': 456}\n",
      "123\n"
     ]
    }
   ],
   "source": [
    "a = {'ram': 123, 'shyam': 456}\n",
    "b = a.pop(\"ram\")\n",
    "print(a)\n",
    "print(b)"
   ]
  },
  {
   "cell_type": "code",
   "execution_count": 12,
   "id": "8da46ca8",
   "metadata": {},
   "outputs": [
    {
     "name": "stdout",
     "output_type": "stream",
     "text": [
      "{'shyam': 456}\n"
     ]
    }
   ],
   "source": [
    "a = {'ram': 123, 'shyam': 456}\n",
    "del a[\"ram\"]\n",
    "print(a)"
   ]
  },
  {
   "cell_type": "code",
   "execution_count": 13,
   "id": "013a31c7",
   "metadata": {},
   "outputs": [
    {
     "ename": "TypeError",
     "evalue": "unsupported operand type(s) for +: 'dict' and 'dict'",
     "output_type": "error",
     "traceback": [
      "\u001b[1;31m---------------------------------------------------------------------------\u001b[0m",
      "\u001b[1;31mTypeError\u001b[0m                                 Traceback (most recent call last)",
      "Cell \u001b[1;32mIn[13], line 3\u001b[0m\n\u001b[0;32m      1\u001b[0m a \u001b[38;5;241m=\u001b[39m {\u001b[38;5;124m'\u001b[39m\u001b[38;5;124mram\u001b[39m\u001b[38;5;124m'\u001b[39m: \u001b[38;5;241m123\u001b[39m, \u001b[38;5;124m'\u001b[39m\u001b[38;5;124mshyam\u001b[39m\u001b[38;5;124m'\u001b[39m: \u001b[38;5;241m456\u001b[39m}\n\u001b[0;32m      2\u001b[0m b \u001b[38;5;241m=\u001b[39m {\u001b[38;5;124m'\u001b[39m\u001b[38;5;124msita\u001b[39m\u001b[38;5;124m'\u001b[39m: \u001b[38;5;241m567\u001b[39m }\n\u001b[1;32m----> 3\u001b[0m c \u001b[38;5;241m=\u001b[39m a\u001b[38;5;241m+\u001b[39mb \n\u001b[0;32m      4\u001b[0m \u001b[38;5;28mprint\u001b[39m(c)\n",
      "\u001b[1;31mTypeError\u001b[0m: unsupported operand type(s) for +: 'dict' and 'dict'"
     ]
    }
   ],
   "source": [
    "# no concatenation\n",
    "\n",
    "a = {'ram': 123, 'shyam': 456}\n",
    "b = {'sita': 567 }\n",
    "c = a+b \n",
    "print(c)"
   ]
  },
  {
   "cell_type": "code",
   "execution_count": 14,
   "id": "7bc3cf17",
   "metadata": {},
   "outputs": [
    {
     "name": "stdout",
     "output_type": "stream",
     "text": [
      "{'ram': 567, 'shyam': 456}\n"
     ]
    }
   ],
   "source": [
    "a = {'ram': 123, 'shyam': 456, 'ram': 567}\n",
    "print(a)"
   ]
  },
  {
   "cell_type": "markdown",
   "id": "0c36cb03",
   "metadata": {},
   "source": [
    "# list inside dictionary"
   ]
  },
  {
   "cell_type": "code",
   "execution_count": 18,
   "id": "5450f27d",
   "metadata": {},
   "outputs": [
    {
     "name": "stdout",
     "output_type": "stream",
     "text": [
      "{'Name': ['Ram', 'Shyam', 'Hari'], 'Age': [24, 25, 26], 'Address': ['ktm', 'bkt', 'Ltr']}\n"
     ]
    }
   ],
   "source": [
    "info = {'Name':[\"Ram\",\"Shyam\",\"Hari\"],\n",
    "       'Age':[24,25,26],\n",
    "       'Address':[\"ktm\",'bkt','Ltr']}\n",
    "print(info)"
   ]
  },
  {
   "cell_type": "code",
   "execution_count": 24,
   "id": "5f5ef7c7",
   "metadata": {},
   "outputs": [
    {
     "name": "stdout",
     "output_type": "stream",
     "text": [
      "Enter integer value: 2\n",
      "Enter your name: ram\n",
      "Enter your age: 12\n",
      "Enter your name: shyam\n",
      "Enter your age: 23\n",
      "{'Name': ['ram', 'shyam'], 'Age': [12, 23]}\n"
     ]
    }
   ],
   "source": [
    "n = int(input(\"Enter integer value: \"))\n",
    "n1 = []\n",
    "a1 = []\n",
    "# d = {'Name':[],'Age':[]}\n",
    "d = {}\n",
    "for i in range(n):\n",
    "    name = input(\"Enter your name: \")\n",
    "    age = int(input(\"Enter your age: \"))\n",
    "    n1.append(name)\n",
    "    a1.append(age)\n",
    "\n",
    "d = {'Name':n1,'Age':a1}\n",
    "print(d)"
   ]
  },
  {
   "cell_type": "code",
   "execution_count": null,
   "id": "43237058",
   "metadata": {},
   "outputs": [],
   "source": [
    "# sir solution \n",
    "\n",
    "info = {'Name':[],'Age':[]}\n",
    "n = int(input(\"Enter integer value: \"))\n",
    "for i in range(n):\n",
    "    name = input(\"Enter your name: \")\n",
    "    age = int(input(\"Enter your age: \"))\n",
    "    info['Name'].append(name)\n",
    "    info['Age'].append(age)\n",
    "    \n",
    "print(info)"
   ]
  },
  {
   "cell_type": "markdown",
   "id": "cf8a180a",
   "metadata": {},
   "source": [
    "# dict inside list"
   ]
  },
  {
   "cell_type": "code",
   "execution_count": 17,
   "id": "ff0e29ed",
   "metadata": {},
   "outputs": [
    {
     "name": "stdout",
     "output_type": "stream",
     "text": [
      "[{'name': 'Ram', 'age': 45, 'add': 'ktm'}, {'name': 'Shyma', 'age': 43, 'add': 'bkt'}, {'name': 'hari', 'age': 56, 'add': 'ltr'}]\n"
     ]
    }
   ],
   "source": [
    "info = [{'name':'Ram','age':45,'add':'ktm'},\n",
    "       {'name':'Shyma','age':43,'add':'bkt'},\n",
    "       {'name':'hari','age':56,'add':'ltr'}]\n",
    "print(info)"
   ]
  },
  {
   "cell_type": "code",
   "execution_count": 23,
   "id": "fce09f9e",
   "metadata": {},
   "outputs": [
    {
     "name": "stdout",
     "output_type": "stream",
     "text": [
      "Enter n: 2\n",
      "Enter your name: ram\n",
      "Enter your age: 1234\n",
      "Enter your name: shyam\n",
      "Enter your age: 34\n",
      "[{'name': 'ram', 'age': 1234}, {'name': 'shyam', 'age': 34}]\n"
     ]
    }
   ],
   "source": [
    "info = []\n",
    "n = int(input(\"Enter n: \"))\n",
    "for i in range(n):\n",
    "    name = input(\"Enter your name: \")\n",
    "    age = int(input(\"Enter your age: \"))\n",
    "    d = {'name':name,'age':age}\n",
    "    info.append(d)\n",
    "\n",
    "print(info)"
   ]
  },
  {
   "cell_type": "code",
   "execution_count": null,
   "id": "5b8786c2",
   "metadata": {},
   "outputs": [],
   "source": []
  },
  {
   "cell_type": "code",
   "execution_count": null,
   "id": "90805bc3",
   "metadata": {},
   "outputs": [],
   "source": []
  },
  {
   "cell_type": "code",
   "execution_count": null,
   "id": "472c3217",
   "metadata": {},
   "outputs": [],
   "source": []
  }
 ],
 "metadata": {
  "kernelspec": {
   "display_name": "Python 3 (ipykernel)",
   "language": "python",
   "name": "python3"
  },
  "language_info": {
   "codemirror_mode": {
    "name": "ipython",
    "version": 3
   },
   "file_extension": ".py",
   "mimetype": "text/x-python",
   "name": "python",
   "nbconvert_exporter": "python",
   "pygments_lexer": "ipython3",
   "version": "3.11.5"
  }
 },
 "nbformat": 4,
 "nbformat_minor": 5
}
