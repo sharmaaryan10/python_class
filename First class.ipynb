{
 "cells": [
  {
   "cell_type": "code",
   "execution_count": 1,
   "id": "5cc85e39",
   "metadata": {},
   "outputs": [
    {
     "name": "stdout",
     "output_type": "stream",
     "text": [
      "2\n"
     ]
    }
   ],
   "source": [
    "a = 2\n",
    "print(a)"
   ]
  },
  {
   "cell_type": "code",
   "execution_count": 2,
   "id": "7e152c59",
   "metadata": {},
   "outputs": [],
   "source": [
    "a = \"hello\"\n",
    "b = \"world\""
   ]
  },
  {
   "cell_type": "code",
   "execution_count": 3,
   "id": "2bd3f55c",
   "metadata": {},
   "outputs": [],
   "source": [
    "a = \"hello\"\n",
    "b = \"world\""
   ]
  },
  {
   "cell_type": "code",
   "execution_count": 4,
   "id": "e7d11ea2",
   "metadata": {},
   "outputs": [
    {
     "name": "stdout",
     "output_type": "stream",
     "text": [
      "hello world\n"
     ]
    }
   ],
   "source": [
    "a = \"hello\"\n",
    "b = \"world\"\n",
    "print(a,b)"
   ]
  },
  {
   "cell_type": "code",
   "execution_count": 5,
   "id": "991f84f3",
   "metadata": {},
   "outputs": [
    {
     "name": "stdout",
     "output_type": "stream",
     "text": [
      "hello world\n"
     ]
    }
   ],
   "source": [
    "a=\"hello\"\n",
    "b='world'\n",
    "print(a,b)"
   ]
  },
  {
   "cell_type": "code",
   "execution_count": 7,
   "id": "6fbe25f6",
   "metadata": {},
   "outputs": [
    {
     "ename": "NameError",
     "evalue": "name 'ab' is not defined",
     "output_type": "error",
     "traceback": [
      "\u001b[1;31m---------------------------------------------------------------------------\u001b[0m",
      "\u001b[1;31mNameError\u001b[0m                                 Traceback (most recent call last)",
      "Cell \u001b[1;32mIn[7], line 3\u001b[0m\n\u001b[0;32m      1\u001b[0m a\u001b[38;5;241m=\u001b[39m\u001b[38;5;124m\"\u001b[39m\u001b[38;5;124mhello\u001b[39m\u001b[38;5;124m\"\u001b[39m\n\u001b[0;32m      2\u001b[0m b\u001b[38;5;241m=\u001b[39m\u001b[38;5;124m'\u001b[39m\u001b[38;5;124mworld\u001b[39m\u001b[38;5;124m'\u001b[39m\n\u001b[1;32m----> 3\u001b[0m \u001b[38;5;28mprint\u001b[39m(ab)\n",
      "\u001b[1;31mNameError\u001b[0m: name 'ab' is not defined"
     ]
    }
   ],
   "source": [
    "a=\"hello\"\n",
    "b='world'\n",
    "print(ab)"
   ]
  },
  {
   "cell_type": "code",
   "execution_count": 8,
   "id": "9a345c6a",
   "metadata": {},
   "outputs": [
    {
     "ename": "SyntaxError",
     "evalue": "invalid syntax (1450811025.py, line 3)",
     "output_type": "error",
     "traceback": [
      "\u001b[1;36m  Cell \u001b[1;32mIn[8], line 3\u001b[1;36m\u001b[0m\n\u001b[1;33m    print($\"{a}+{b}\")\u001b[0m\n\u001b[1;37m          ^\u001b[0m\n\u001b[1;31mSyntaxError\u001b[0m\u001b[1;31m:\u001b[0m invalid syntax\n"
     ]
    }
   ],
   "source": [
    "a=\"hello\"\n",
    "b='world'\n",
    "print($\"{a}+{b}\")"
   ]
  },
  {
   "cell_type": "code",
   "execution_count": 9,
   "id": "694fa7e2",
   "metadata": {},
   "outputs": [
    {
     "ename": "SyntaxError",
     "evalue": "invalid syntax. Perhaps you forgot a comma? (3093042373.py, line 3)",
     "output_type": "error",
     "traceback": [
      "\u001b[1;36m  Cell \u001b[1;32mIn[9], line 3\u001b[1;36m\u001b[0m\n\u001b[1;33m    print(a\"+\"b)\u001b[0m\n\u001b[1;37m           ^\u001b[0m\n\u001b[1;31mSyntaxError\u001b[0m\u001b[1;31m:\u001b[0m invalid syntax. Perhaps you forgot a comma?\n"
     ]
    }
   ],
   "source": [
    "a=\"hello\"\n",
    "b='world'\n",
    "print(a\"+\"b)"
   ]
  },
  {
   "cell_type": "code",
   "execution_count": 10,
   "id": "55aa414d",
   "metadata": {},
   "outputs": [
    {
     "name": "stdout",
     "output_type": "stream",
     "text": [
      "<class 'str'>\n",
      "<class 'float'>\n"
     ]
    }
   ],
   "source": [
    "a=\"hello\"\n",
    "b=10.5\n",
    "print(type(a))\n",
    "print(type(b))"
   ]
  },
  {
   "cell_type": "code",
   "execution_count": 13,
   "id": "70fe43f9",
   "metadata": {},
   "outputs": [
    {
     "name": "stdout",
     "output_type": "stream",
     "text": [
      "3.3333333333333335\n"
     ]
    }
   ],
   "source": [
    "a = 10 \n",
    "b = 3\n",
    "c = a/b\n",
    "print(c)"
   ]
  },
  {
   "cell_type": "code",
   "execution_count": 14,
   "id": "fa42e414",
   "metadata": {},
   "outputs": [
    {
     "name": "stdout",
     "output_type": "stream",
     "text": [
      "30\n"
     ]
    }
   ],
   "source": [
    "a = 10 \n",
    "b = 3\n",
    "c = a*b\n",
    "print(c)"
   ]
  },
  {
   "cell_type": "code",
   "execution_count": 15,
   "id": "ca28e1b9",
   "metadata": {},
   "outputs": [
    {
     "name": "stdout",
     "output_type": "stream",
     "text": [
      "7\n"
     ]
    }
   ],
   "source": [
    "a = 10 \n",
    "b = 3\n",
    "c = a-b\n",
    "print(c)"
   ]
  },
  {
   "cell_type": "code",
   "execution_count": 16,
   "id": "76cdf263",
   "metadata": {},
   "outputs": [
    {
     "name": "stdout",
     "output_type": "stream",
     "text": [
      "13\n"
     ]
    }
   ],
   "source": [
    "a = 10 \n",
    "b = 3\n",
    "c = a+b\n",
    "print(c)"
   ]
  },
  {
   "cell_type": "code",
   "execution_count": 17,
   "id": "4c77b12f",
   "metadata": {},
   "outputs": [
    {
     "name": "stdout",
     "output_type": "stream",
     "text": [
      "1\n"
     ]
    }
   ],
   "source": [
    "a = 10 \n",
    "b = 3\n",
    "c = a%b\n",
    "print(c)"
   ]
  },
  {
   "cell_type": "code",
   "execution_count": 18,
   "id": "863e1fe5",
   "metadata": {},
   "outputs": [
    {
     "name": "stdout",
     "output_type": "stream",
     "text": [
      "1000\n"
     ]
    }
   ],
   "source": [
    "a = 10 \n",
    "b = 3\n",
    "c = a**b\n",
    "print(c)"
   ]
  },
  {
   "cell_type": "code",
   "execution_count": 19,
   "id": "3fe2c9b2",
   "metadata": {},
   "outputs": [
    {
     "name": "stdout",
     "output_type": "stream",
     "text": [
      "helloworld\n"
     ]
    }
   ],
   "source": [
    "a = 'hello'\n",
    "b = 'world'\n",
    "c = a+b\n",
    "print(c)"
   ]
  },
  {
   "cell_type": "code",
   "execution_count": 20,
   "id": "d587aec5",
   "metadata": {},
   "outputs": [
    {
     "name": "stdout",
     "output_type": "stream",
     "text": [
      "helloworld\n"
     ]
    }
   ],
   "source": [
    "a = 'hello'\n",
    "b = 'world'\n",
    "c = a + b\n",
    "print(c)"
   ]
  },
  {
   "cell_type": "code",
   "execution_count": 21,
   "id": "64e37413",
   "metadata": {},
   "outputs": [],
   "source": [
    "a = \"hello\""
   ]
  },
  {
   "cell_type": "code",
   "execution_count": 22,
   "id": "2e4c2f39",
   "metadata": {},
   "outputs": [
    {
     "name": "stdout",
     "output_type": "stream",
     "text": [
      "hellohello\n"
     ]
    }
   ],
   "source": [
    "a = \"hello\"\n",
    "print(a*2)"
   ]
  },
  {
   "cell_type": "code",
   "execution_count": 23,
   "id": "44f13c2e",
   "metadata": {},
   "outputs": [
    {
     "name": "stdout",
     "output_type": "stream",
     "text": [
      "hello\n",
      "hello\n",
      "\n"
     ]
    }
   ],
   "source": [
    "a = \"hello\\n\"\n",
    "print(a*2)"
   ]
  },
  {
   "cell_type": "code",
   "execution_count": 24,
   "id": "a49a08cb",
   "metadata": {},
   "outputs": [
    {
     "name": "stdout",
     "output_type": "stream",
     "text": [
      "1\n"
     ]
    }
   ],
   "source": [
    "a = True \n",
    "b = False \n",
    "print(a+b)"
   ]
  },
  {
   "cell_type": "code",
   "execution_count": 25,
   "id": "31d087a6",
   "metadata": {},
   "outputs": [
    {
     "name": "stdout",
     "output_type": "stream",
     "text": [
      "0\n"
     ]
    }
   ],
   "source": [
    "a = True \n",
    "b = False \n",
    "print(a*b)"
   ]
  },
  {
   "cell_type": "code",
   "execution_count": 26,
   "id": "9bf30fe4",
   "metadata": {},
   "outputs": [
    {
     "name": "stdout",
     "output_type": "stream",
     "text": [
      "2\n"
     ]
    }
   ],
   "source": [
    "a = True \n",
    "b = True\n",
    "print(a+b)"
   ]
  },
  {
   "cell_type": "code",
   "execution_count": 27,
   "id": "26fa60a8",
   "metadata": {},
   "outputs": [],
   "source": [
    "a = 2 + 3j\n",
    "b = 4 + 2j\n",
    "c = a+b"
   ]
  },
  {
   "cell_type": "code",
   "execution_count": 28,
   "id": "16cdd27b",
   "metadata": {},
   "outputs": [],
   "source": [
    "a = 2 + 3j\n",
    "b = 4 + 2j\n",
    "c = a+b"
   ]
  },
  {
   "cell_type": "code",
   "execution_count": 30,
   "id": "0370e0b2",
   "metadata": {},
   "outputs": [
    {
     "name": "stdout",
     "output_type": "stream",
     "text": [
      "(2+16j)\n"
     ]
    }
   ],
   "source": [
    "a = 2 + 3j\n",
    "b = 4 + 2j\n",
    "c = a*b\n",
    "print(c)"
   ]
  },
  {
   "cell_type": "code",
   "execution_count": 31,
   "id": "60092424",
   "metadata": {},
   "outputs": [
    {
     "ename": "SyntaxError",
     "evalue": "invalid decimal literal (2561642077.py, line 1)",
     "output_type": "error",
     "traceback": [
      "\u001b[1;36m  Cell \u001b[1;32mIn[31], line 1\u001b[1;36m\u001b[0m\n\u001b[1;33m    a = 2 + 3i\u001b[0m\n\u001b[1;37m            ^\u001b[0m\n\u001b[1;31mSyntaxError\u001b[0m\u001b[1;31m:\u001b[0m invalid decimal literal\n"
     ]
    }
   ],
   "source": [
    "a = 2 + 3i\n",
    "b = 4 + 2i\n",
    "c = a+b"
   ]
  },
  {
   "cell_type": "code",
   "execution_count": 32,
   "id": "6a6211be",
   "metadata": {},
   "outputs": [],
   "source": [
    "a = 2 + 3j\n",
    "b = 4 + 2j\n",
    "c = a+b"
   ]
  },
  {
   "cell_type": "code",
   "execution_count": 33,
   "id": "e256ec8e",
   "metadata": {},
   "outputs": [],
   "source": [
    "a = 2 + 3j\n",
    "b = 4 + 2j\n",
    "c = a+b"
   ]
  },
  {
   "cell_type": "code",
   "execution_count": 34,
   "id": "e240337f",
   "metadata": {},
   "outputs": [
    {
     "name": "stdout",
     "output_type": "stream",
     "text": [
      "(6+5j)\n"
     ]
    }
   ],
   "source": [
    "a = 2 + 3j\n",
    "b = 4 + 2j\n",
    "c = a+b\n",
    "print(c)"
   ]
  },
  {
   "cell_type": "code",
   "execution_count": 35,
   "id": "b91f6d0e",
   "metadata": {},
   "outputs": [],
   "source": [
    "p = 200\n",
    "t = 3.5\n",
    "r = 8\n",
    "i = p*t*r/100"
   ]
  },
  {
   "cell_type": "code",
   "execution_count": 36,
   "id": "1392b8ec",
   "metadata": {},
   "outputs": [
    {
     "name": "stdout",
     "output_type": "stream",
     "text": [
      "56.0\n"
     ]
    }
   ],
   "source": [
    "p = 200\n",
    "t = 3.5\n",
    "r = 8\n",
    "i = p*t*r/100\n",
    "print(i)"
   ]
  },
  {
   "cell_type": "code",
   "execution_count": 37,
   "id": "1413e637",
   "metadata": {},
   "outputs": [],
   "source": [
    "p = 200\n",
    "t = 3.5\n",
    "r = 8\n",
    "i = p*t*r/100"
   ]
  },
  {
   "cell_type": "code",
   "execution_count": 38,
   "id": "eca6c907",
   "metadata": {},
   "outputs": [
    {
     "ename": "SyntaxError",
     "evalue": "invalid syntax (3711457355.py, line 5)",
     "output_type": "error",
     "traceback": [
      "\u001b[1;36m  Cell \u001b[1;32mIn[38], line 5\u001b[1;36m\u001b[0m\n\u001b[1;33m    print($\"The value of i :{i}\")\u001b[0m\n\u001b[1;37m          ^\u001b[0m\n\u001b[1;31mSyntaxError\u001b[0m\u001b[1;31m:\u001b[0m invalid syntax\n"
     ]
    }
   ],
   "source": [
    "p = 200\n",
    "t = 3.5\n",
    "r = 8\n",
    "i = p*t*r/100\n",
    "print($\"The value of i :{i}\")"
   ]
  },
  {
   "cell_type": "code",
   "execution_count": 39,
   "id": "a554fbf4",
   "metadata": {},
   "outputs": [
    {
     "name": "stdout",
     "output_type": "stream",
     "text": [
      "56.0\n"
     ]
    }
   ],
   "source": [
    "p = 200\n",
    "t = 3.5\n",
    "r = 8\n",
    "i = p*t*r/100\n",
    "print(i)"
   ]
  },
  {
   "cell_type": "code",
   "execution_count": 4,
   "id": "8e391cba",
   "metadata": {},
   "outputs": [
    {
     "name": "stdout",
     "output_type": "stream",
     "text": [
      "Enter the value a: 78\n",
      "78\n",
      "<class 'str'>\n"
     ]
    }
   ],
   "source": [
    "a = input(\"Enter the value a: \")\n",
    "print(a)\n",
    "print(type(a))"
   ]
  },
  {
   "cell_type": "code",
   "execution_count": 10,
   "id": "6b985a2b",
   "metadata": {},
   "outputs": [
    {
     "name": "stdout",
     "output_type": "stream",
     "text": [
      "Enter the value a: 67\n",
      "67\n",
      "<class 'int'>\n"
     ]
    }
   ],
   "source": [
    "a = int(input(\"Enter the value a: \"))\n",
    "print(a)\n",
    "print(type(a))\n"
   ]
  },
  {
   "cell_type": "code",
   "execution_count": 11,
   "id": "644491a3",
   "metadata": {},
   "outputs": [
    {
     "name": "stdout",
     "output_type": "stream",
     "text": [
      "Enter p: 400\n",
      "Enter t: 3.5\n",
      "Enter r: 2\n",
      "Interest =  28.0\n"
     ]
    }
   ],
   "source": [
    "p = int(input(\"Enter p: \"))\n",
    "t = float(input(\"Enter t: \"))\n",
    "r = float(input(\"Enter r: \"))\n",
    "i = p*t*r/100\n",
    "print(\"Interest = \",i)"
   ]
  },
  {
   "cell_type": "code",
   "execution_count": 12,
   "id": "52ff618e",
   "metadata": {},
   "outputs": [],
   "source": [
    "# int() str() float() bool() complex() "
   ]
  },
  {
   "cell_type": "code",
   "execution_count": 15,
   "id": "8e29aeb3",
   "metadata": {},
   "outputs": [
    {
     "name": "stdout",
     "output_type": "stream",
     "text": [
      "<class 'int'>\n",
      "<class 'str'>\n"
     ]
    }
   ],
   "source": [
    "#int to str\n",
    "a = 10\n",
    "b = str(a)\n",
    "b\n",
    "print(type(a))\n",
    "print(type(b))"
   ]
  },
  {
   "cell_type": "code",
   "execution_count": 16,
   "id": "33290e97",
   "metadata": {},
   "outputs": [
    {
     "data": {
      "text/plain": [
       "(10+0j)"
      ]
     },
     "execution_count": 16,
     "metadata": {},
     "output_type": "execute_result"
    }
   ],
   "source": [
    "a = 10\n",
    "b = complex(a)\n",
    "b"
   ]
  },
  {
   "cell_type": "code",
   "execution_count": 18,
   "id": "dd793d70",
   "metadata": {},
   "outputs": [
    {
     "name": "stdout",
     "output_type": "stream",
     "text": [
      "Enter name: ram \n",
      "Enter age: 78\n",
      "Enter add: ktm\n",
      "Hello World I am ram ktm78\n"
     ]
    }
   ],
   "source": [
    "name = input(\"Enter name: \")\n",
    "age = int(input(\"Enter age: \"))\n",
    "add = input(\"Enter add: \")\n",
    "info = \"Hello World I am \" +name+ add + str(age)\n",
    "print(info)"
   ]
  },
  {
   "cell_type": "code",
   "execution_count": 1,
   "id": "066f9e88",
   "metadata": {},
   "outputs": [
    {
     "name": "stdout",
     "output_type": "stream",
     "text": [
      "Enter your name: ram\n",
      "Enter your Physics marks: 98\n",
      "Enter your Chemistry marks: 90\n",
      "Enter your Maths marks: 87\n",
      "\n",
      "Your name is: ram\n",
      "Your total score is:  275\n",
      "Your percentage is:  91.66666666666667\n"
     ]
    }
   ],
   "source": [
    "name = input(\"Enter your name: \")\n",
    "m1 = int(input(\"Enter your Physics marks: \"))\n",
    "m2 = int(input(\"Enter your Chemistry marks: \"))\n",
    "m3 = int(input(\"Enter your Maths marks: \"))\n",
    "\n",
    "total = m1+m2+m3\n",
    "perc = (total*100)/300\n",
    "print(\"\\nYour name is: \",name)\n",
    "print(\"Your total score is: \",total)\n",
    "print(\"Your percentage is: \",perc)"
   ]
  },
  {
   "cell_type": "code",
   "execution_count": 2,
   "id": "c22abd8b",
   "metadata": {},
   "outputs": [
    {
     "name": "stdout",
     "output_type": "stream",
     "text": [
      "Enter your name: hari\n",
      "Enter your Physics marks: 90\n",
      "Enter your Chemistry marks: 89\n",
      "Enter your Maths marks: 87\n",
      "\n",
      "Your name is:  hari\n",
      "Your total score is:  266\n",
      "Your percentage is:  88.66666666666667\n"
     ]
    }
   ],
   "source": [
    "name = input(\"Enter your name: \")\n",
    "m1 = int(input(\"Enter your Physics marks: \"))\n",
    "m2 = int(input(\"Enter your Chemistry marks: \"))\n",
    "m3 = int(input(\"Enter your Maths marks: \"))\n",
    "\n",
    "total = m1+m2+m3\n",
    "perc = (total*100)/300\n",
    "print(\"\\nYour name is: \",name)\n",
    "print(\"Your total score is: \",total)\n",
    "print(\"Your percentage is: \",perc)"
   ]
  },
  {
   "cell_type": "code",
   "execution_count": 3,
   "id": "b16339a5",
   "metadata": {},
   "outputs": [],
   "source": [
    "# comparison operators: < > <= >= == != "
   ]
  },
  {
   "cell_type": "code",
   "execution_count": 4,
   "id": "331947d2",
   "metadata": {},
   "outputs": [
    {
     "name": "stdout",
     "output_type": "stream",
     "text": [
      "Enter no: 9\n",
      "9 is odd.\n"
     ]
    }
   ],
   "source": [
    "a = int(input(\"Enter no: \"))\n",
    "if a%2 == 0:\n",
    "    print(a,\" is even.\")\n",
    "else:\n",
    "    print(a,\"is odd.\")"
   ]
  },
  {
   "cell_type": "code",
   "execution_count": 7,
   "id": "feae5016",
   "metadata": {},
   "outputs": [
    {
     "name": "stdout",
     "output_type": "stream",
     "text": [
      "Enter no: -8\n",
      "-8 is negative\n"
     ]
    }
   ],
   "source": [
    "a = int(input(\"Enter no: \"))\n",
    "if a>=0:\n",
    "    print(a,'is positive')\n",
    "else:\n",
    "    print(a,'is negative')"
   ]
  },
  {
   "cell_type": "code",
   "execution_count": 10,
   "id": "f8b911ae",
   "metadata": {},
   "outputs": [
    {
     "name": "stdout",
     "output_type": "stream",
     "text": [
      "Enter a: 8\n",
      "Enter b: 8\n"
     ]
    },
    {
     "ename": "TypeError",
     "evalue": "unsupported operand type(s) for +: 'int' and 'str'",
     "output_type": "error",
     "traceback": [
      "\u001b[1;31m---------------------------------------------------------------------------\u001b[0m",
      "\u001b[1;31mTypeError\u001b[0m                                 Traceback (most recent call last)",
      "Cell \u001b[1;32mIn[10], line 8\u001b[0m\n\u001b[0;32m      6\u001b[0m     \u001b[38;5;28mprint\u001b[39m(b,\u001b[38;5;124m\"\u001b[39m\u001b[38;5;124mis greater!\u001b[39m\u001b[38;5;124m\"\u001b[39m)\n\u001b[0;32m      7\u001b[0m \u001b[38;5;28;01melse\u001b[39;00m:\n\u001b[1;32m----> 8\u001b[0m     \u001b[38;5;28mprint\u001b[39m(a\u001b[38;5;241m+\u001b[39m\u001b[38;5;124m\"\u001b[39m\u001b[38;5;124m&\u001b[39m\u001b[38;5;124m\"\u001b[39m\u001b[38;5;241m+\u001b[39mb,\u001b[38;5;124m\"\u001b[39m\u001b[38;5;124mboth are equal\u001b[39m\u001b[38;5;124m\"\u001b[39m)\n",
      "\u001b[1;31mTypeError\u001b[0m: unsupported operand type(s) for +: 'int' and 'str'"
     ]
    }
   ],
   "source": [
    "a = int(input(\"Enter a: \"))\n",
    "b = int(input(\"Enter b: \"))\n",
    "if a>b:\n",
    "    print(a,\"is greater!\")\n",
    "elif b>a:\n",
    "    print(b,\"is greater!\")\n",
    "else:\n",
    "    print(a+\"&\"+b,\"both are equal\")"
   ]
  },
  {
   "cell_type": "code",
   "execution_count": 1,
   "id": "201cb1df",
   "metadata": {},
   "outputs": [
    {
     "name": "stdout",
     "output_type": "stream",
     "text": [
      "Enter your name: hari\n",
      "Enter your Physics marks: 89\n",
      "Enter your Chemistry marks: 90\n",
      "Enter your Maths marks: 78\n",
      "\n",
      "Your name is:  hari\n",
      "Your total score is:  257\n",
      "Your percentage is:  85.66666666666667 %\n",
      "Your grade is:  A\n"
     ]
    }
   ],
   "source": [
    "name = input(\"Enter your name: \")\n",
    "m1 = int(input(\"Enter your Physics marks: \"))\n",
    "m2 = int(input(\"Enter your Chemistry marks: \"))\n",
    "m3 = int(input(\"Enter your Maths marks: \"))\n",
    "\n",
    "total = m1+m2+m3\n",
    "perc = (total*100)/300\n",
    "if perc>=80:\n",
    "    grade = \"A\"\n",
    "elif perc>=60:\n",
    "    grade = \"B\"\n",
    "elif perc>=45:\n",
    "    grade = \"C\"\n",
    "else:\n",
    "    grade = \"F\"\n",
    "    \n",
    "print(\"\\nYour name is: \",name)\n",
    "print(\"Your total score is: \",total)\n",
    "print(\"Your percentage is: \",perc,\"%\")\n",
    "print(\"Your grade is: \",grade)"
   ]
  },
  {
   "cell_type": "code",
   "execution_count": 1,
   "id": "98df9102",
   "metadata": {},
   "outputs": [
    {
     "name": "stdout",
     "output_type": "stream",
     "text": [
      "Enter a: 8\n",
      "Enter b: 2\n",
      "Enter the operator + or - * or /: /\n",
      "4.0\n"
     ]
    }
   ],
   "source": [
    "a = int(input(\"Enter a: \"))\n",
    "b = int(input(\"Enter b: \"))\n",
    "o = input(\"Enter the operator + or - * or /: \")\n",
    "if o == \"+\":\n",
    "    print(a+b)\n",
    "elif o == \"-\":\n",
    "    print(a-b)\n",
    "elif o == \"*\":\n",
    "    print(a*b)\n",
    "elif o == \"/\":\n",
    "    print(a/b)\n",
    "else:\n",
    "    print(\"Enter valid operator: \")"
   ]
  },
  {
   "cell_type": "code",
   "execution_count": 2,
   "id": "f71cdf5f",
   "metadata": {},
   "outputs": [],
   "source": [
    "# nested if.. elif...."
   ]
  },
  {
   "cell_type": "code",
   "execution_count": 3,
   "id": "fe34dad7",
   "metadata": {},
   "outputs": [
    {
     "name": "stdout",
     "output_type": "stream",
     "text": [
      "Enter a: 8\n",
      "Enter b: 0\n",
      "Enter the operator + or - * or /: /\n",
      "The value of b can't be zero\n"
     ]
    }
   ],
   "source": [
    "a = int(input(\"Enter a: \"))\n",
    "b = int(input(\"Enter b: \"))\n",
    "o = input(\"Enter the operator + or - * or /: \")\n",
    "if o == \"+\":\n",
    "    print(a+b)\n",
    "elif o == \"-\":\n",
    "    print(a-b)\n",
    "elif o == \"*\":\n",
    "    print(a*b)\n",
    "elif o == \"/\":\n",
    "    if b != 0:\n",
    "        print(a/b)\n",
    "    else:\n",
    "        print(\"The value of b can't be zero\")\n",
    "else:\n",
    "    print(\"Enter valid operator: \")"
   ]
  },
  {
   "cell_type": "code",
   "execution_count": 4,
   "id": "fb8b7fbe",
   "metadata": {},
   "outputs": [],
   "source": [
    "# logical operator: \n",
    "# and, or not"
   ]
  },
  {
   "cell_type": "code",
   "execution_count": 5,
   "id": "d197c2bb",
   "metadata": {},
   "outputs": [
    {
     "name": "stdout",
     "output_type": "stream",
     "text": [
      "True\n",
      "False\n",
      "True\n"
     ]
    }
   ],
   "source": [
    "print(True and True)\n",
    "print(True and False)\n",
    "print(True or False)"
   ]
  },
  {
   "cell_type": "code",
   "execution_count": 7,
   "id": "b596b277",
   "metadata": {},
   "outputs": [
    {
     "name": "stdout",
     "output_type": "stream",
     "text": [
      "Enter a: 8\n",
      "Enter b: 0\n",
      "Enter the operator + or - * or /: /\n",
      "The value of b can't be zero\n"
     ]
    }
   ],
   "source": [
    "a = int(input(\"Enter a: \"))\n",
    "b = int(input(\"Enter b: \"))\n",
    "o = input(\"Enter the operator + or - * or /: \")\n",
    "if o == \"+\":\n",
    "    print(a+b)\n",
    "elif o == \"-\":\n",
    "    print(a-b)\n",
    "elif o == \"*\":\n",
    "    print(a*b)\n",
    "elif o == \"/\" and b!=0:\n",
    "    print(a/b)\n",
    "elif o ==\"/\" and b==0:\n",
    "    print(\"The value of b can't be zero\")\n",
    "else:\n",
    "    print(\"Enter valid operator: \")"
   ]
  },
  {
   "cell_type": "code",
   "execution_count": 11,
   "id": "0c3433e5",
   "metadata": {},
   "outputs": [
    {
     "name": "stdout",
     "output_type": "stream",
     "text": [
      "Enter address: bkt\n",
      "Enter age: 23\n",
      "Welcome to event.\n"
     ]
    }
   ],
   "source": [
    "address = input(\"Enter address: \")\n",
    "age = int(input(\"Enter age: \"))\n",
    "if address == \"kathmandu\" or age > 20:\n",
    "    print(\"Welcome to event.\")\n",
    "else:\n",
    "    print(\"Sorry!\")"
   ]
  },
  {
   "cell_type": "code",
   "execution_count": 1,
   "id": "34e0e6b7",
   "metadata": {},
   "outputs": [],
   "source": [
    "#loops: for, while"
   ]
  },
  {
   "cell_type": "code",
   "execution_count": 4,
   "id": "d3063819",
   "metadata": {},
   "outputs": [
    {
     "name": "stdout",
     "output_type": "stream",
     "text": [
      "Enter the no: 4\n",
      "Factorial:  24\n"
     ]
    }
   ],
   "source": [
    "n = int(input(\"Enter the no: \"))\n",
    "fact = 1\n",
    "for i in range(1,n):\n",
    "    fact = fact*n\n",
    "    n -= 1\n",
    "print(\"Factorial: \", fact)"
   ]
  },
  {
   "cell_type": "code",
   "execution_count": null,
   "id": "0417daa5",
   "metadata": {},
   "outputs": [],
   "source": [
    "for"
   ]
  }
 ],
 "metadata": {
  "kernelspec": {
   "display_name": "Python 3 (ipykernel)",
   "language": "python",
   "name": "python3"
  },
  "language_info": {
   "codemirror_mode": {
    "name": "ipython",
    "version": 3
   },
   "file_extension": ".py",
   "mimetype": "text/x-python",
   "name": "python",
   "nbconvert_exporter": "python",
   "pygments_lexer": "ipython3",
   "version": "3.11.5"
  }
 },
 "nbformat": 4,
 "nbformat_minor": 5
}
